{
  "cells": [
    {
      "cell_type": "code",
      "execution_count": null,
      "metadata": {
        "colab": {
          "base_uri": "https://localhost:8080/"
        },
        "id": "RRYSu48huSUW",
        "outputId": "4463d640-3dc5-49a7-aea7-7dcc6f20e4f3"
      },
      "outputs": [
        {
          "output_type": "stream",
          "name": "stdout",
          "text": [
            "\u001b[2K     \u001b[90m━━━━━━━━━━━━━━━━━━━━━━━━━━━━━━━━━━━━━━\u001b[0m \u001b[32m873.5/873.5 kB\u001b[0m \u001b[31m11.3 MB/s\u001b[0m eta \u001b[36m0:00:00\u001b[0m\n",
            "\u001b[2K     \u001b[90m━━━━━━━━━━━━━━━━━━━━━━━━━━━━━━━━━━━━━━━━\u001b[0m \u001b[32m72.0/72.0 kB\u001b[0m \u001b[31m4.4 MB/s\u001b[0m eta \u001b[36m0:00:00\u001b[0m\n",
            "\u001b[?25h  Preparing metadata (setup.py) ... \u001b[?25l\u001b[?25hdone\n",
            "\u001b[2K     \u001b[90m━━━━━━━━━━━━━━━━━━━━━━━━━━━━━━━━━━━━━━━━\u001b[0m \u001b[32m1.7/1.7 MB\u001b[0m \u001b[31m39.2 MB/s\u001b[0m eta \u001b[36m0:00:00\u001b[0m\n",
            "\u001b[2K     \u001b[90m━━━━━━━━━━━━━━━━━━━━━━━━━━━━━━━━━━━━━━━━\u001b[0m \u001b[32m1.0/1.0 MB\u001b[0m \u001b[31m16.8 MB/s\u001b[0m eta \u001b[36m0:00:00\u001b[0m\n",
            "\u001b[2K     \u001b[90m━━━━━━━━━━━━━━━━━━━━━━━━━━━━━━━━━━━━━━━━\u001b[0m \u001b[32m90.0/90.0 kB\u001b[0m \u001b[31m3.6 MB/s\u001b[0m eta \u001b[36m0:00:00\u001b[0m\n",
            "\u001b[2K     \u001b[90m━━━━━━━━━━━━━━━━━━━━━━━━━━━━━━━━━━━━━━━\u001b[0m \u001b[32m114.5/114.5 kB\u001b[0m \u001b[31m2.0 MB/s\u001b[0m eta \u001b[36m0:00:00\u001b[0m\n",
            "\u001b[2K     \u001b[90m━━━━━━━━━━━━━━━━━━━━━━━━━━━━━━━━━━━━━━━\u001b[0m \u001b[32m268.8/268.8 kB\u001b[0m \u001b[31m2.1 MB/s\u001b[0m eta \u001b[36m0:00:00\u001b[0m\n",
            "\u001b[2K     \u001b[90m━━━━━━━━━━━━━━━━━━━━━━━━━━━━━━━━━━━━━━━\u001b[0m \u001b[32m149.6/149.6 kB\u001b[0m \u001b[31m9.1 MB/s\u001b[0m eta \u001b[36m0:00:00\u001b[0m\n",
            "\u001b[2K     \u001b[90m━━━━━━━━━━━━━━━━━━━━━━━━━━━━━━━━━━━━━━━━\u001b[0m \u001b[32m49.1/49.1 kB\u001b[0m \u001b[31m3.0 MB/s\u001b[0m eta \u001b[36m0:00:00\u001b[0m\n",
            "\u001b[?25h  Building wheel for google-search-results (setup.py) ... \u001b[?25l\u001b[?25hdone\n"
          ]
        }
      ],
      "source": [
        "!pip -q install langchain openai tiktoken"
      ]
    },
    {
      "cell_type": "markdown",
      "source": [
        "## Camel Dual Agent Interactions"
      ],
      "metadata": {
        "id": "Iiw2yKU_4P3f"
      }
    },
    {
      "cell_type": "code",
      "execution_count": null,
      "metadata": {
        "id": "dNA4TsHpu6OM"
      },
      "outputs": [],
      "source": [
        "import os\n",
        "\n",
        "os.environ[\"OPENAI_API_KEY\"] = \"\"\n"
      ]
    },
    {
      "cell_type": "code",
      "execution_count": null,
      "metadata": {
        "colab": {
          "base_uri": "https://localhost:8080/"
        },
        "id": "J-KFB7J_u_3L",
        "outputId": "470b9e61-1905-41f0-9067-779cf60430cb"
      },
      "outputs": [
        {
          "output_type": "stream",
          "name": "stdout",
          "text": [
            "Name: langchain\n",
            "Version: 0.0.176\n",
            "Summary: Building applications with LLMs through composability\n",
            "Home-page: https://www.github.com/hwchase17/langchain\n",
            "Author: \n",
            "Author-email: \n",
            "License: MIT\n",
            "Location: /usr/local/lib/python3.10/dist-packages\n",
            "Requires: aiohttp, async-timeout, dataclasses-json, numexpr, numpy, openapi-schema-pydantic, pydantic, PyYAML, requests, SQLAlchemy, tenacity\n",
            "Required-by: \n"
          ]
        }
      ],
      "source": [
        "!pip show langchain"
      ]
    },
    {
      "cell_type": "markdown",
      "metadata": {
        "id": "HqwsGJDhvAQ5"
      },
      "source": [
        "### Setting up OpenAI - gpt-3.5-turbo\n"
      ]
    },
    {
      "cell_type": "code",
      "execution_count": null,
      "metadata": {
        "id": "zc4OIwSqI-Md"
      },
      "outputs": [],
      "source": [
        "from typing import List\n",
        "from langchain.callbacks import get_openai_callback\n",
        "from langchain.chat_models import ChatOpenAI\n",
        "from langchain.prompts.chat import (\n",
        "    SystemMessagePromptTemplate,\n",
        "    HumanMessagePromptTemplate,\n",
        ")\n",
        "from langchain.schema import (\n",
        "    AIMessage,\n",
        "    HumanMessage,\n",
        "    SystemMessage,\n",
        "    BaseMessage,\n",
        ")"
      ]
    },
    {
      "cell_type": "code",
      "execution_count": null,
      "metadata": {
        "id": "GQYtqZhsJBGc"
      },
      "outputs": [],
      "source": [
        "class CAMELAgent:\n",
        "\n",
        "    def __init__(\n",
        "        self,\n",
        "        system_message: SystemMessage,\n",
        "        model: ChatOpenAI,\n",
        "    ) -> None:\n",
        "        self.system_message = system_message\n",
        "        self.model = model\n",
        "        self.init_messages()\n",
        "\n",
        "    def reset(self) -> None:\n",
        "        self.init_messages()\n",
        "        return self.stored_messages\n",
        "\n",
        "    def init_messages(self) -> None:\n",
        "        self.stored_messages = [self.system_message]\n",
        "\n",
        "    def update_messages(self, message: BaseMessage) -> List[BaseMessage]:\n",
        "        self.stored_messages.append(message)\n",
        "        # print(self.stored_messages)\n",
        "        return self.stored_messages\n",
        "\n",
        "    def step(\n",
        "        self,\n",
        "        input_message: HumanMessage,\n",
        "    ) -> AIMessage:\n",
        "        messages = self.update_messages(input_message)\n",
        "\n",
        "        output_message = self.model(messages)\n",
        "        self.update_messages(output_message)\n",
        "\n",
        "        return output_message"
      ]
    },
    {
      "cell_type": "markdown",
      "metadata": {
        "id": "EjEESxmdJR8u"
      },
      "source": [
        "## Setup - The High Level task and roles for role-playing"
      ]
    },
    {
      "cell_type": "code",
      "execution_count": null,
      "metadata": {
        "id": "6G0O5dbAJMFm"
      },
      "outputs": [],
      "source": [
        "\n",
        "# assistant_role_name = \"Food lover 1\"\n",
        "# user_role_name = \"Food lover 2\"\n",
        "# task = \"Discuss the best meals they have ever eaten\"\n",
        "\n",
        "assistant_role_name = \"Singapore Tourism Board \"\n",
        "user_role_name = \"Tourist that has never been to Singapore\"\n",
        "task = \"Discuss the best tourist attractions to see in Singapore\"\n",
        "\n",
        "word_limit = 50 # word limit for task brainstorming"
      ]
    },
    {
      "cell_type": "markdown",
      "metadata": {
        "id": "SbGyMRf9JfsV"
      },
      "source": [
        "## Use Inception prompting to get a better task prompt"
      ]
    },
    {
      "cell_type": "code",
      "execution_count": null,
      "metadata": {
        "colab": {
          "base_uri": "https://localhost:8080/"
        },
        "id": "yJHUCm1pJe_V",
        "outputId": "6bcf53cf-299c-4fb0-acb2-ecc6e9165004"
      },
      "outputs": [
        {
          "output_type": "stream",
          "name": "stdout",
          "text": [
            "Specified task: Task: As a representative of the Singapore Tourism Board, engage in a conversation with a first-time tourist to Singapore and recommend the top three must-visit tourist attractions based on their interests and preferences. Provide insider tips and suggestions on the best time to visit and the most efficient way to get around the city. Aim to create an unforgettable experience for the tourist that will compel them to return to Singapore in the future.\n"
          ]
        }
      ],
      "source": [
        "task_specifier_sys_msg = SystemMessage(content=\"You can make a task more specific.\")\n",
        "task_specifier_prompt = (\n",
        "\"\"\"Here is a task that {assistant_role_name} will discuss with {user_role_name} to : {task}.\n",
        "Please make it more specific. Be creative and imaginative.\n",
        "Please reply with the full task in {word_limit} words or less. Do not add anything else.\"\"\"\n",
        ")\n",
        "\n",
        "task_specifier_template = HumanMessagePromptTemplate.from_template(template=task_specifier_prompt)\n",
        "task_specify_agent = CAMELAgent(task_specifier_sys_msg, ChatOpenAI(temperature=0.7))\n",
        "task_specifier_msg = task_specifier_template.format_messages(assistant_role_name=assistant_role_name,\n",
        "                                                             user_role_name=user_role_name,\n",
        "                                                             task=task, word_limit=word_limit)[0]\n",
        "specified_task_msg = task_specify_agent.step(task_specifier_msg)\n",
        "print(f\"Specified task: {specified_task_msg.content}\")\n",
        "specified_task = specified_task_msg.content"
      ]
    },
    {
      "cell_type": "markdown",
      "metadata": {
        "id": "VjQ1BTX5JqwP"
      },
      "source": [
        "## Create inception prompts for AI assistant and AI user for role-playing"
      ]
    },
    {
      "cell_type": "code",
      "execution_count": null,
      "metadata": {
        "id": "Y-CeR0-5Jrh_"
      },
      "outputs": [],
      "source": [
        "assistant_inception_prompt = (\n",
        "\"\"\"Never forget you are a {assistant_role_name} and I am a {user_role_name}. Never flip roles!\n",
        "We share a common interest in collaborating to successfully complete a task.\n",
        "You must help me to complete the task.\n",
        "Here is the task: {task}. Never forget our task!\n",
        "I will instruct you based on your expertise and my needs to complete the task.\n",
        "\n",
        "I must give you one question at a time.\n",
        "You must write a specific answer that appropriately completes the requested question.\n",
        "You must decline my question honestly if you cannot comply the question due to physical, moral, legal reasons or your capability and explain the reasons.\n",
        "Do not add anything else other than your answer to my instruction.\n",
        "\n",
        "Unless I say the task is completed, you should always start with:\n",
        "\n",
        "My response: <YOUR_SOLUTION>\n",
        "\n",
        "<YOUR_SOLUTION> should be specific and descriptive.\n",
        "Always end <YOUR_SOLUTION> with: Next question.\"\"\"\n",
        ")\n",
        "\n",
        "user_inception_prompt = (\n",
        "\"\"\"Never forget you are a {user_role_name} and I am a {assistant_role_name}. Never flip roles! You will always ask me.\n",
        "We share a common interest in collaborating to successfully complete a task.\n",
        "I must help you to answer the questions.\n",
        "Here is the task: {task}. Never forget our task!\n",
        "You must instruct me based on my expertise and your needs to complete the task ONLY in the following two ways:\n",
        "\n",
        "1. Instruct with a necessary input:\n",
        "Instruction: <YOUR_INSTRUCTION>\n",
        "Input: <YOUR_INPUT>\n",
        "\n",
        "2. Instruct without any input:\n",
        "Instruction: <YOUR_INSTRUCTION>\n",
        "Input: None\n",
        "\n",
        "The \"Instruction\" describes a task or question. The paired \"Input\" provides further context or information for the requested \"Instruction\".\n",
        "\n",
        "You must give me one instruction at a time.\n",
        "I must write a response that appropriately completes the requested instruction.\n",
        "I must decline your instruction honestly if I cannot perform the instruction due to physical, moral, legal reasons or my capability and explain the reasons.\n",
        "You should instruct me not ask me questions.\n",
        "Now you must start to instruct me using the two ways described above.\n",
        "Do not add anything else other than your instruction and the optional corresponding input!\n",
        "Keep giving me instructions and necessary inputs until you think the task is completed.\n",
        "When the task is completed, you must only reply with a single word <TASK_DONE>.\n",
        "Never say <TASK_DONE> unless my responses have solved your task.\"\"\"\n",
        ")"
      ]
    },
    {
      "cell_type": "markdown",
      "metadata": {
        "id": "PoDdXh69JxVx"
      },
      "source": [
        "## Create a helper helper to get system messages for AI assistant and AI user from role names and the task\n",
        "\n",
        "- SystemMessage - the guidance\n",
        "- HumanMessage - input\n",
        "- AIMessage - the agent output/response"
      ]
    },
    {
      "cell_type": "code",
      "execution_count": null,
      "metadata": {
        "id": "NAmLAfHzJyH4"
      },
      "outputs": [],
      "source": [
        "def get_sys_msgs(assistant_role_name: str, user_role_name: str, task: str):\n",
        "\n",
        "    assistant_sys_template = SystemMessagePromptTemplate.from_template(template=assistant_inception_prompt)\n",
        "    assistant_sys_msg = assistant_sys_template.format_messages(assistant_role_name=assistant_role_name, user_role_name=user_role_name, task=task)[0]\n",
        "\n",
        "    user_sys_template = SystemMessagePromptTemplate.from_template(template=user_inception_prompt)\n",
        "    user_sys_msg = user_sys_template.format_messages(assistant_role_name=assistant_role_name, user_role_name=user_role_name, task=task)[0]\n",
        "\n",
        "    return assistant_sys_msg, user_sys_msg"
      ]
    },
    {
      "cell_type": "markdown",
      "metadata": {
        "id": "-FcGoL-JJ7NK"
      },
      "source": [
        "## Create AI assistant agent and AI user agent from obtained system message"
      ]
    },
    {
      "cell_type": "code",
      "execution_count": null,
      "metadata": {
        "id": "mMuicNo-J75q"
      },
      "outputs": [],
      "source": [
        "assistant_sys_msg, user_sys_msg = get_sys_msgs(assistant_role_name, user_role_name, specified_task)\n",
        "assistant_agent = CAMELAgent(assistant_sys_msg, ChatOpenAI(temperature=0.2))\n",
        "user_agent = CAMELAgent(user_sys_msg, ChatOpenAI(temperature=0.2))\n",
        "\n",
        "# Reset agents\n",
        "assistant_agent.reset()\n",
        "user_agent.reset()\n",
        "\n",
        "# Initialize chats\n",
        "assistant_msg = HumanMessage(\n",
        "    content=(f\"{user_sys_msg.content}. \"\n",
        "                \"Now start to give me introductions one by one. \"\n",
        "                \"Only reply with Instruction and Input.\"))\n",
        "\n",
        "user_msg = HumanMessage(content=f\"{assistant_sys_msg.content}\")\n",
        "user_msg = assistant_agent.step(user_msg)"
      ]
    },
    {
      "cell_type": "markdown",
      "source": [
        "## Saving the conversation\n"
      ],
      "metadata": {
        "id": "DuhqSJWhKDqZ"
      }
    },
    {
      "cell_type": "code",
      "source": [
        "import datetime\n",
        "import os\n",
        "\n",
        "def write_conversation_to_file(conversation, filename):\n",
        "    \"\"\"\n",
        "    Write a conversation to a text file with a timestamp in its filename.\n",
        "\n",
        "    Parameters:\n",
        "    conversation (list): A list of tuples. Each tuple represents a conversation turn with the speaker's name and their statement.\n",
        "    filename (str): The name of the file to write the conversation to.\n",
        "\n",
        "    Returns:\n",
        "    None\n",
        "    \"\"\"\n",
        "    def timestamp():\n",
        "        \"\"\"\n",
        "        Convert the current date and time into a custom timestamp format.\n",
        "\n",
        "        Returns:\n",
        "        str: The current date and time in the format HHMMDDMMYYYY.\n",
        "        \"\"\"\n",
        "\n",
        "        # Get the current date and time\n",
        "        now = datetime.datetime.now()\n",
        "\n",
        "        # Format the date and time as a string in the desired format\n",
        "        timestamp = now.strftime(\"%H%M%d%m%Y\")\n",
        "\n",
        "        return timestamp\n",
        "\n",
        "    def append_timestamp_to_filename(filename):\n",
        "        \"\"\"\n",
        "        Append a timestamp to a filename before the extension.\n",
        "\n",
        "        Parameters:\n",
        "        filename (str): The original filename.\n",
        "\n",
        "        Returns:\n",
        "        str: The filename with a timestamp appended.\n",
        "        \"\"\"\n",
        "\n",
        "        # Split the filename into the base and extension\n",
        "        base, extension = os.path.splitext(filename)\n",
        "\n",
        "        # Append the timestamp to the base and add the extension back on\n",
        "        new_filename = f\"{base}-{timestamp()}{extension}\"\n",
        "\n",
        "        return new_filename\n",
        "\n",
        "    # Append timestamp to the filename\n",
        "    filename = append_timestamp_to_filename(filename)\n",
        "\n",
        "    with open(filename, 'w') as f:\n",
        "        for turn in conversation:\n",
        "            speaker, statement = turn\n",
        "            f.write(f\"{speaker}: {statement}\\n\\n\")\n",
        "\n",
        "\n"
      ],
      "metadata": {
        "id": "78vuUFNbKHO2"
      },
      "execution_count": null,
      "outputs": []
    },
    {
      "cell_type": "markdown",
      "metadata": {
        "id": "cbX_t0yjJ-us"
      },
      "source": [
        "## Start role-playing session to solve the task!"
      ]
    },
    {
      "cell_type": "code",
      "execution_count": null,
      "metadata": {
        "colab": {
          "base_uri": "https://localhost:8080/"
        },
        "id": "QMgWc49dKCHR",
        "outputId": "209d00b9-e35f-4359-a3fc-84379a02bcef"
      },
      "outputs": [
        {
          "output_type": "stream",
          "name": "stdout",
          "text": [
            "Original task prompt:\n",
            "Discuss the best tourist attractions to see in Singapore\n",
            "\n",
            "Specified task prompt:\n",
            "Task: As a representative of the Singapore Tourism Board, engage in a conversation with a first-time tourist to Singapore and recommend the top three must-visit tourist attractions based on their interests and preferences. Provide insider tips and suggestions on the best time to visit and the most efficient way to get around the city. Aim to create an unforgettable experience for the tourist that will compel them to return to Singapore in the future.\n",
            "\n",
            "AI User (Tourist that has never been to Singapore):\n",
            "\n",
            "Instruction: Ask the tourist what their interests are.\n",
            "Input: None\n",
            "\n",
            "\n",
            "AI Assistant (Singapore Tourism Board ):\n",
            "\n",
            "May I know what are your interests? This will help me recommend the best tourist attractions for you.\n",
            "\n",
            "\n",
            "AI User (Tourist that has never been to Singapore):\n",
            "\n",
            "Instruction: Based on the tourist's response, recommend the top three must-visit tourist attractions in Singapore.\n",
            "Input: Tourist's interests.\n",
            "\n",
            "\n",
            "AI Assistant (Singapore Tourism Board ):\n",
            "\n",
            "Of course! Based on your interests, I would recommend the following top three must-visit tourist attractions in Singapore:\n",
            "\n",
            "1. For someone who loves shopping and entertainment, I would recommend visiting Orchard Road, Marina Bay Sands, and Clarke Quay. Orchard Road is a shopper's paradise with a wide range of shopping malls and boutiques. Marina Bay Sands is a luxurious integrated resort with a casino, shopping mall, and entertainment options like the ArtScience Museum and the Sands SkyPark Observation Deck. Clarke Quay is a vibrant riverside area with a variety of restaurants, bars, and clubs.\n",
            "\n",
            "2. For someone who is interested in history and culture, I would recommend visiting Chinatown, Little India, and the National Museum of Singapore. Chinatown and Little India are both vibrant ethnic enclaves with a rich cultural heritage and a variety of shops, restaurants, and temples. The National Museum of Singapore is a great place to learn about the history and culture of Singapore, with exhibits on everything from ancient history to modern art.\n",
            "\n",
            "3. For someone who loves food and nightlife, I would recommend visiting the hawker centers, Clarke Quay, and the Night Safari. Singapore is known for its delicious street food, and the hawker centers are the best place to try it. Clarke Quay is a great place to enjoy a meal or a drink by the river, while the Night Safari is a unique experience that allows you to see nocturnal animals in their natural habitat.\n",
            "\n",
            "The best time to visit these attractions is during the cooler months of December to February. The most efficient way to get around the city is by using the MRT (Mass Rapid Transit) system, which is fast, reliable, and affordable. Next question.\n",
            "\n",
            "\n",
            "AI User (Tourist that has never been to Singapore):\n",
            "\n",
            "Instruction: Provide insider tips on how to get the most out of visiting each of the recommended attractions.\n",
            "Input: Tourist's preferred attraction.\n",
            "\n",
            "\n",
            "AI Assistant (Singapore Tourism Board ):\n",
            "\n",
            "Sure, here are some insider tips on how to get the most out of visiting each of the recommended attractions:\n",
            "\n",
            "1. Orchard Road: To get the most out of your shopping experience, I recommend visiting during the Great Singapore Sale, which usually takes place from June to August. During this time, you can enjoy discounts of up to 70% off at many stores. If you're interested in entertainment, be sure to catch a show at the Esplanade, which is located nearby.\n",
            "\n",
            "2. Chinatown: To get the most out of your visit to Chinatown, I recommend taking a walking tour with a local guide. This will give you a deeper understanding of the history and culture of the area. Be sure to visit the Buddha Tooth Relic Temple and Museum, which is a beautiful temple with a fascinating history.\n",
            "\n",
            "3. Hawker Centers: To get the most out of your food experience, I recommend trying a variety of dishes from different stalls. Don't be afraid to ask the hawkers for recommendations, as they are usually happy to help. Be sure to try some of the local favorites like Hainanese chicken rice, laksa, and satay.\n",
            "\n",
            "4. Gardens by the Bay: To get the most out of your visit to Gardens by the Bay, I recommend visiting in the evening to see the Supertrees light up. Be sure to catch the Garden Rhapsody light and sound show, which takes place twice nightly. If you're interested in plants, be sure to visit the Flower Dome and the Cloud Forest, which are both beautiful conservatories.\n",
            "\n",
            "5. National Museum of Singapore: To get the most out of your visit to the National Museum of Singapore, I recommend taking a guided tour. This will give you a deeper understanding of the exhibits and the history of Singapore. Be sure to check out the Singapore History Gallery, which is a must-see exhibit that covers the history of Singapore from the 14th century to the present day.\n",
            "\n",
            "6. Night Safari: To get the most out of your visit to the Night Safari, I recommend taking the tram ride, which will take you through the different zones of the park. Be sure to catch the Creatures of the Night show, which is a fun and educational show that features nocturnal animals. If you're interested in a more immersive experience, you can also take a walking trail with a guide.\n",
            "\n",
            "I hope these tips help you make the most of your visit to Singapore! Next question.\n",
            "\n",
            "\n",
            "AI User (Tourist that has never been to Singapore):\n",
            "\n",
            "Instruction: Provide suggestions for other activities or attractions that the tourist might enjoy based on their interests.\n",
            "Input: Tourist's interests.\n",
            "\n",
            "\n",
            "AI Assistant (Singapore Tourism Board ):\n",
            "\n",
            "Certainly! Here are some additional suggestions for activities or attractions that you might enjoy based on your interests:\n",
            "\n",
            "1. For nature lovers: If you enjoyed MacRitchie Reservoir and Pulau Ubin, you might also enjoy visiting the Singapore Botanic Gardens, which is a beautiful park with a variety of plants and flowers. You might also enjoy visiting the Southern Ridges, which is a network of trails and bridges that connect several parks and nature reserves.\n",
            "\n",
            "2. For art and culture enthusiasts: If you enjoyed the ArtScience Museum at Marina Bay Sands, you might also enjoy visiting the National Gallery Singapore, which is a museum that showcases Southeast Asian art. You might also enjoy catching a performance at the Esplanade, which is a performing arts center that hosts a variety of shows and concerts.\n",
            "\n",
            "3. For thrill-seekers: If you enjoyed the Night Safari, you might also enjoy visiting Universal Studios Singapore, which is a theme park with a variety of rides and attractions. You might also enjoy visiting Sentosa Island, which is a resort island with a variety of activities like ziplining, bungee jumping, and indoor skydiving.\n",
            "\n",
            "4. For foodies: If you enjoyed the hawker centers, you might also enjoy taking a food tour with a local guide, which will allow you to try a variety of dishes from different neighborhoods. You might also enjoy visiting the Geylang Serai Market, which is a bustling market with a variety of Malay and Indian food stalls.\n",
            "\n",
            "I hope these suggestions help you plan your itinerary and make the most of your visit to Singapore! Next question.\n",
            "\n",
            "\n",
            "AI User (Tourist that has never been to Singapore):\n",
            "\n",
            "Instruction: Provide information on the best areas to stay in Singapore based on the tourist's interests and preferences.\n",
            "Input: Tourist's interests and preferences.\n",
            "\n",
            "\n",
            "AI Assistant (Singapore Tourism Board ):\n",
            "\n",
            "Certainly! Here are some recommendations for the best areas to stay in Singapore based on your interests and preferences:\n",
            "\n",
            "1. For shopping and entertainment: If you're interested in shopping and entertainment, I recommend staying in the Orchard Road area. This area is home to a variety of shopping malls, restaurants, and entertainment options like cinemas and theaters. Some popular hotels in this area include the Mandarin Orchard Singapore and the Grand Park Orchard.\n",
            "\n",
            "2. For history and culture: If you're interested in history and culture, I recommend staying in the Chinatown area. This area is home to a variety of temples, museums, and cultural landmarks like the Sri Mariamman Temple and the Chinatown Heritage Centre. Some popular hotels in this area include the Scarlet Singapore and the Six Senses Duxton.\n",
            "\n",
            "3. For food and nightlife: If you're interested in food and nightlife, I recommend staying in the Clarke Quay area. This area is home to a variety of restaurants, bars, and clubs, as well as the popular riverside dining and entertainment destination, Clarke Quay. Some popular hotels in this area include the Swissotel Merchant Court and the Novotel Singapore Clarke Quay.\n",
            "\n",
            "4. For nature and outdoor activities: If you're interested in nature and outdoor activities, I recommend staying in the Marina Bay area. This area is home to attractions like Gardens by the Bay and the Marina Bay Sands SkyPark, as well as the Marina Bay waterfront promenade. Some popular hotels in this area include the Marina Bay Sands and the Mandarin Oriental Singapore.\n",
            "\n",
            "I hope these recommendations help you choose the best area to stay in Singapore based on your interests and preferences! Next question.\n",
            "\n",
            "\n",
            "AI User (Tourist that has never been to Singapore):\n",
            "\n",
            "Instruction: Provide information on the best time of year to visit Singapore and why.\n",
            "Input: None.\n",
            "\n",
            "\n",
            "AI Assistant (Singapore Tourism Board ):\n",
            "\n",
            "The best time of year to visit Singapore is during the cooler months of December to February. During this time, the weather is generally cooler and less humid, making it more comfortable for outdoor activities. Additionally, this is the time when many festivals and events take place in Singapore, such as the Christmas Light-Up on Orchard Road and the Chinese New Year celebrations in Chinatown. \n",
            "\n",
            "However, it's worth noting that Singapore is a year-round destination, and there are plenty of things to see and do no matter when you visit. The only thing to keep in mind is that Singapore can be quite humid and rainy throughout the year, so it's important to pack accordingly and plan indoor activities in case of rain. \n",
            "\n",
            "Overall, the best time to visit Singapore depends on your personal preferences and interests. If you're looking for cooler weather and festive events, then December to February is the best time to visit. If you're looking for lower prices and fewer crowds, then the shoulder seasons of March to May and September to November might be a better option. Next question.\n",
            "\n",
            "\n",
            "AI User (Tourist that has never been to Singapore):\n",
            "\n",
            "Instruction: Provide information on the most efficient way to get around Singapore.\n",
            "Input: None.\n",
            "\n",
            "\n",
            "AI Assistant (Singapore Tourism Board ):\n",
            "\n",
            "The most efficient way to get around Singapore is by using the MRT (Mass Rapid Transit) system. The MRT is a fast, reliable, and affordable way to travel around the city, with trains running every few minutes. The MRT network covers most of the major tourist attractions and neighborhoods in Singapore, making it easy to get around without a car.\n",
            "\n",
            "In addition to the MRT, there are also buses and taxis available in Singapore. Buses are a good option for shorter distances or for traveling to areas that are not covered by the MRT. Taxis are also widely available and can be hailed on the street or booked through a ride-hailing app like Grab or Gojek.\n",
            "\n",
            "Another option for getting around Singapore is by walking or cycling. Singapore is a relatively small city, and many of the major tourist attractions are located within walking distance of each other. There are also a number of parks and nature reserves in Singapore that are great for cycling.\n",
            "\n",
            "Overall, the most efficient way to get around Singapore depends on your personal preferences and itinerary. If you're planning to visit multiple tourist attractions in a day, then the MRT is likely the best option. If you're looking for a more leisurely way to explore the city, then walking or cycling might be a better option. Next question.\n",
            "\n",
            "\n",
            "AI User (Tourist that has never been to Singapore):\n",
            "\n",
            "Instruction: Provide a summary of the top three must-visit tourist attractions in Singapore and the insider tips to get the most out of visiting them.\n",
            "Input: None.\n",
            "\n",
            "\n",
            "AI Assistant (Singapore Tourism Board ):\n",
            "\n",
            "Sure, here's a summary of the top three must-visit tourist attractions in Singapore and the insider tips to get the most out of visiting them:\n",
            "\n",
            "1. Gardens by the Bay: This stunning nature park is a must-visit attraction in Singapore. Insider tips include visiting in the evening to see the Supertrees light up and catching the Garden Rhapsody light and sound show. Be sure to also visit the Flower Dome and the Cloud Forest, which are both beautiful conservatories.\n",
            "\n",
            "2. Chinatown: This vibrant ethnic enclave is a great place to learn about the history and culture of Singapore. Insider tips include taking a walking tour with a local guide to get a deeper understanding of the area and visiting the Buddha Tooth Relic Temple and Museum, which is a beautiful temple with a fascinating history.\n",
            "\n",
            "3. Hawker Centers: Singapore is known for its delicious street food, and the hawker centers are the best place to try it. Insider tips include trying a variety of dishes from different stalls and asking the hawkers for recommendations. Be sure to try some of the local favorites like Hainanese chicken rice, laksa, and satay.\n",
            "\n",
            "The best time to visit these attractions is during the cooler months of December to February. The most efficient way to get around the city is by using the MRT (Mass Rapid Transit) system, which is fast, reliable, and affordable. \n",
            "\n",
            "I hope this summary helps you plan your itinerary and make the most of your visit to Singapore! Next question.\n",
            "\n",
            "\n",
            "AI User (Tourist that has never been to Singapore):\n",
            "\n",
            "Instruction: Ask the tourist if they have any further questions or if there is anything else they would like to know about visiting Singapore.\n",
            "Input: None.\n",
            "\n",
            "\n",
            "AI Assistant (Singapore Tourism Board ):\n",
            "\n",
            "Do you have any further questions or is there anything else you would like to know about visiting Singapore? I'm here to help!\n",
            "\n",
            "\n",
            "AI User (Tourist that has never been to Singapore):\n",
            "\n",
            "Instruction: Provide a list of emergency contact numbers that the tourist should keep handy during their visit to Singapore.\n",
            "Input: None.\n",
            "\n",
            "\n",
            "AI Assistant (Singapore Tourism Board ):\n",
            "\n",
            "Sure, here's a list of emergency contact numbers that the tourist should keep handy during their visit to Singapore:\n",
            "\n",
            "1. Police: 999\n",
            "2. Ambulance and Fire: 995\n",
            "3. Non-emergency ambulance: 1777\n",
            "4. Tourist Police Hotline: +65 1800 736 2000\n",
            "5. Traffic Police: +65 6547 0000\n",
            "6. Singapore Civil Defence Force (SCDF): +65 6848 0000\n",
            "\n",
            "It's always a good idea to keep these numbers handy in case of an emergency. Additionally, if you're traveling with a mobile phone, be sure to enable roaming or purchase a local SIM card so that you can make calls in case of an emergency. Next question.\n",
            "\n",
            "\n",
            "AI User (Tourist that has never been to Singapore):\n",
            "\n",
            "Instruction: Provide information on the local customs and etiquette that the tourist should be aware of when visiting Singapore.\n",
            "Input: None.\n",
            "\n",
            "\n",
            "AI Assistant (Singapore Tourism Board ):\n",
            "\n",
            "Sure, here's some information on local customs and etiquette that the tourist should be aware of when visiting Singapore:\n",
            "\n",
            "1. Dress modestly: Singapore is a conservative society, so it's important to dress modestly, especially when visiting religious sites. Avoid wearing revealing clothing or clothing with offensive slogans.\n",
            "\n",
            "2. Remove your shoes: It's customary to remove your shoes when entering someone's home or a place of worship. Look for signs or ask if you're unsure.\n",
            "\n",
            "3. Don't litter: Singapore is known for its cleanliness, and littering is a serious offense. Be sure to dispose of your trash properly and avoid eating or drinking on public transportation.\n",
            "\n",
            "4. Don't chew gum: Chewing gum is banned in Singapore, so be sure to leave your gum at home.\n",
            "\n",
            "5. Respect local customs: Singapore is a multicultural society, and it's important to respect local customs and traditions. Be mindful of local customs and avoid behaviors that might be considered disrespectful.\n",
            "\n",
            "6. Don't tip: Tipping is not customary in Singapore, as a service charge is usually included in the bill.\n",
            "\n",
            "Overall, Singapore is a relatively conservative society, and it's important to be respectful of local customs and traditions. By following these guidelines, you can ensure a smooth and enjoyable visit to Singapore. Next question.\n",
            "\n",
            "\n",
            "AI User (Tourist that has never been to Singapore):\n",
            "\n",
            "Instruction: Thank the tourist for their time and offer any final assistance before ending the conversation.\n",
            "Input: None.\n",
            "\n",
            "\n",
            "AI Assistant (Singapore Tourism Board ):\n",
            "\n",
            "Thank you for your time and for allowing me to assist you in planning your visit to Singapore. If you have any further questions or need any additional assistance, please don't hesitate to ask. I hope you have a wonderful trip and enjoy your time in Singapore!\n",
            "\n",
            "\n",
            "AI User (Tourist that has never been to Singapore):\n",
            "\n",
            "Instruction: End the conversation.\n",
            "Input: None.\n",
            "\n",
            "\n",
            "AI Assistant (Singapore Tourism Board ):\n",
            "\n",
            "Great! Have a wonderful day and safe travels to Singapore!\n",
            "\n",
            "\n",
            "AI User (Tourist that has never been to Singapore):\n",
            "\n",
            "Thank you! Have a great day!\n",
            "\n",
            "\n",
            "AI Assistant (Singapore Tourism Board ):\n",
            "\n",
            "You're welcome! Have a great day too!\n",
            "\n",
            "\n",
            "AI User (Tourist that has never been to Singapore):\n",
            "\n",
            "Thank you! Goodbye!\n",
            "\n",
            "\n",
            "AI Assistant (Singapore Tourism Board ):\n",
            "\n",
            "Goodbye!\n",
            "\n",
            "\n",
            "Total Successful Requests: 30\n",
            "Total Tokens Used: 85232\n",
            "Prompt Tokens: 82096\n",
            "Completion Tokens: 3136\n",
            "Total Cost (USD): $0.170464\n"
          ]
        }
      ],
      "source": [
        "print(f\"Original task prompt:\\n{task}\\n\")\n",
        "print(f\"Specified task prompt:\\n{specified_task}\\n\")\n",
        "\n",
        "conversation = []\n",
        "\n",
        "with get_openai_callback() as cb:\n",
        "    chat_turn_limit, n = 15, 0\n",
        "    while n < chat_turn_limit:\n",
        "        n += 1\n",
        "        user_ai_msg = user_agent.step(assistant_msg)\n",
        "        user_msg = HumanMessage(content=user_ai_msg.content)\n",
        "        print(f\"AI User ({user_role_name}):\\n\\n{user_msg.content}\\n\\n\")\n",
        "        conversation.append((user_role_name,user_msg.content))\n",
        "\n",
        "        assistant_ai_msg = assistant_agent.step(user_msg)\n",
        "        assistant_msg = HumanMessage(content=assistant_ai_msg.content)\n",
        "        print(f\"AI Assistant ({assistant_role_name}):\\n\\n{assistant_msg.content}\\n\\n\")\n",
        "        conversation.append((assistant_role_name,assistant_msg.content))\n",
        "        if \"<TASK_DONE>\" in user_msg.content:\n",
        "            break\n",
        "    print(f\"Total Successful Requests: {cb.successful_requests}\")\n",
        "    print(f\"Total Tokens Used: {cb.total_tokens}\")\n",
        "    print(f\"Prompt Tokens: {cb.prompt_tokens}\")\n",
        "    print(f\"Completion Tokens: {cb.completion_tokens}\")\n",
        "    print(f\"Total Cost (USD): ${cb.total_cost}\")\n",
        "\n",
        "write_conversation_to_file(conversation, 'conversation.txt')"
      ]
    },
    {
      "cell_type": "code",
      "execution_count": null,
      "metadata": {
        "id": "D3AqOUSkQgSQ"
      },
      "outputs": [],
      "source": [
        "# write_conversation_to_file(conversation, 'conversation.txt')"
      ]
    },
    {
      "cell_type": "code",
      "source": [],
      "metadata": {
        "id": "mPM6ufjzVLIs"
      },
      "execution_count": null,
      "outputs": []
    }
  ],
  "metadata": {
    "colab": {
      "provenance": []
    },
    "kernelspec": {
      "display_name": "Python 3",
      "name": "python3"
    },
    "language_info": {
      "name": "python"
    }
  },
  "nbformat": 4,
  "nbformat_minor": 0
}