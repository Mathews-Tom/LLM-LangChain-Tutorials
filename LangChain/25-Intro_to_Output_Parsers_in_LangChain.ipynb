{
  "cells": [
    {
      "cell_type": "code",
      "execution_count": null,
      "metadata": {
        "colab": {
          "base_uri": "https://localhost:8080/"
        },
        "id": "RRYSu48huSUW",
        "outputId": "6a05000b-73d3-4a52-bb15-bd9de58d2ed6"
      },
      "outputs": [
        {
          "name": "stdout",
          "output_type": "stream",
          "text": [
            "\u001b[2K     \u001b[90m━━━━━━━━━━━━━━━━━━━━━━━━━━━━━━━━━━━━━━\u001b[0m \u001b[32m975.6/975.6 kB\u001b[0m \u001b[31m26.2 MB/s\u001b[0m eta \u001b[36m0:00:00\u001b[0m\n",
            "\u001b[2K     \u001b[90m━━━━━━━━━━━━━━━━━━━━━━━━━━━━━━━━━━━━━━━━\u001b[0m \u001b[32m72.0/72.0 kB\u001b[0m \u001b[31m7.9 MB/s\u001b[0m eta \u001b[36m0:00:00\u001b[0m\n",
            "\u001b[2K     \u001b[90m━━━━━━━━━━━━━━━━━━━━━━━━━━━━━━━━━━━━━━━━\u001b[0m \u001b[32m1.7/1.7 MB\u001b[0m \u001b[31m83.5 MB/s\u001b[0m eta \u001b[36m0:00:00\u001b[0m\n",
            "\u001b[2K     \u001b[90m━━━━━━━━━━━━━━━━━━━━━━━━━━━━━━━━━━━━━━━━\u001b[0m \u001b[32m1.0/1.0 MB\u001b[0m \u001b[31m65.0 MB/s\u001b[0m eta \u001b[36m0:00:00\u001b[0m\n",
            "\u001b[2K     \u001b[90m━━━━━━━━━━━━━━━━━━━━━━━━━━━━━━━━━━━━━━━━\u001b[0m \u001b[32m90.0/90.0 kB\u001b[0m \u001b[31m8.7 MB/s\u001b[0m eta \u001b[36m0:00:00\u001b[0m\n",
            "\u001b[2K     \u001b[90m━━━━━━━━━━━━━━━━━━━━━━━━━━━━━━━━━━━━━━\u001b[0m \u001b[32m114.5/114.5 kB\u001b[0m \u001b[31m14.6 MB/s\u001b[0m eta \u001b[36m0:00:00\u001b[0m\n",
            "\u001b[2K     \u001b[90m━━━━━━━━━━━━━━━━━━━━━━━━━━━━━━━━━━━━━━\u001b[0m \u001b[32m268.8/268.8 kB\u001b[0m \u001b[31m25.0 MB/s\u001b[0m eta \u001b[36m0:00:00\u001b[0m\n",
            "\u001b[2K     \u001b[90m━━━━━━━━━━━━━━━━━━━━━━━━━━━━━━━━━━━━━━\u001b[0m \u001b[32m149.6/149.6 kB\u001b[0m \u001b[31m16.8 MB/s\u001b[0m eta \u001b[36m0:00:00\u001b[0m\n",
            "\u001b[2K     \u001b[90m━━━━━━━━━━━━━━━━━━━━━━━━━━━━━━━━━━━━━━━━\u001b[0m \u001b[32m49.1/49.1 kB\u001b[0m \u001b[31m5.1 MB/s\u001b[0m eta \u001b[36m0:00:00\u001b[0m\n",
            "\u001b[?25h"
          ]
        }
      ],
      "source": [
        "!pip -q install langchain openai tiktoken cohere"
      ]
    },
    {
      "cell_type": "code",
      "execution_count": null,
      "metadata": {
        "id": "dNA4TsHpu6OM"
      },
      "outputs": [],
      "source": [
        "import os\n",
        "\n",
        "os.environ[\"OPENAI_API_KEY\"] = \"\""
      ]
    },
    {
      "cell_type": "code",
      "execution_count": null,
      "metadata": {
        "colab": {
          "base_uri": "https://localhost:8080/"
        },
        "id": "J-KFB7J_u_3L",
        "outputId": "3a261ad2-1c63-4950-d268-a38e2114aeb1"
      },
      "outputs": [
        {
          "name": "stdout",
          "output_type": "stream",
          "text": [
            "Name: langchain\n",
            "Version: 0.0.189\n",
            "Summary: Building applications with LLMs through composability\n",
            "Home-page: https://www.github.com/hwchase17/langchain\n",
            "Author: \n",
            "Author-email: \n",
            "License: MIT\n",
            "Location: /usr/local/lib/python3.10/dist-packages\n",
            "Requires: aiohttp, async-timeout, dataclasses-json, numexpr, numpy, openapi-schema-pydantic, pydantic, PyYAML, requests, SQLAlchemy, tenacity\n",
            "Required-by: \n"
          ]
        }
      ],
      "source": [
        "!pip show langchain"
      ]
    },
    {
      "attachments": {},
      "cell_type": "markdown",
      "metadata": {
        "id": "HqwsGJDhvAQ5"
      },
      "source": [
        "# Intro to LangChain Output Parsers\n"
      ]
    },
    {
      "cell_type": "code",
      "execution_count": null,
      "metadata": {
        "id": "yrEsK0iKrbv0"
      },
      "outputs": [],
      "source": [
        "from langchain.chat_models import ChatOpenAI\n",
        "\n",
        "chat_llm = ChatOpenAI(temperature=0.0)"
      ]
    },
    {
      "cell_type": "code",
      "execution_count": null,
      "metadata": {
        "id": "vyCxeeyMrfca"
      },
      "outputs": [],
      "source": [
        "template_string = \"\"\"You are a master branding consulatant who specializes in naming brands. \\\n",
        "You come up with catchy and memorable brand names.\n",
        "\n",
        "Take the brand description below delimited by triple backticks and use it to create the name for a brand.\n",
        "\n",
        "brand description: ```{brand_description}```\n",
        "\n",
        "then based on the description and you hot new brand name give the brand a score 1-10 for how likely it is to succeed.\n",
        "\"\"\""
      ]
    },
    {
      "cell_type": "code",
      "execution_count": null,
      "metadata": {
        "id": "mHwvM3dzsF62"
      },
      "outputs": [],
      "source": [
        "from langchain.prompts import ChatPromptTemplate\n",
        "\n",
        "prompt_template = ChatPromptTemplate.from_template(template_string)\n"
      ]
    },
    {
      "cell_type": "code",
      "execution_count": null,
      "metadata": {
        "colab": {
          "base_uri": "https://localhost:8080/"
        },
        "id": "VXf3o4BTsGgc",
        "outputId": "2815633d-4e1f-4ae2-acd7-79c5e57696c8"
      },
      "outputs": [
        {
          "data": {
            "text/plain": [
              "PromptTemplate(input_variables=['brand_description'], output_parser=None, partial_variables={}, template='You are a master branding consulatant who specializes in naming brands. You come up with catchy and memorable brand names.\\n\\nTake the brand description below delimited by triple backticks and use it to create the name for a brand.\\n\\nbrand description: ```{brand_description}```\\n\\nthen based on the description and you hot new brand name give the brand a score 1-10 for how likely it is to succeed.\\n', template_format='f-string', validate_template=True)"
            ]
          },
          "execution_count": 15,
          "metadata": {},
          "output_type": "execute_result"
        }
      ],
      "source": [
        "prompt_template.messages[0].prompt"
      ]
    },
    {
      "cell_type": "code",
      "execution_count": null,
      "metadata": {
        "id": "dtjouxcxsP7B"
      },
      "outputs": [],
      "source": [
        "branding_messages = prompt_template.format_messages( brand_description=\"a cool hip new sneaker brand aimed at rich kids\")"
      ]
    },
    {
      "cell_type": "code",
      "execution_count": null,
      "metadata": {
        "colab": {
          "base_uri": "https://localhost:8080/"
        },
        "id": "kq4_zulrs-vq",
        "outputId": "b96340fc-e017-4ff3-cac8-4f3d42ee881b"
      },
      "outputs": [
        {
          "data": {
            "text/plain": [
              "[HumanMessage(content='You are a master branding consulatant who specializes in naming brands. You come up with catchy and memorable brand names.\\n\\nTake the brand description below delimited by triple backticks and use it to create the name for a brand.\\n\\nbrand description: ```a cool hip new sneaker brand aimed at rich kids```\\n\\nthen based on the description and you hot new brand name give the brand a score 1-10 for how likely it is to succeed.\\n', additional_kwargs={}, example=False)]"
            ]
          },
          "execution_count": 17,
          "metadata": {},
          "output_type": "execute_result"
        }
      ],
      "source": [
        "branding_messages"
      ]
    },
    {
      "cell_type": "code",
      "execution_count": null,
      "metadata": {
        "id": "AE3clWu5GahZ"
      },
      "outputs": [],
      "source": [
        "consultant_response = chat_llm(branding_messages)"
      ]
    },
    {
      "cell_type": "code",
      "execution_count": null,
      "metadata": {
        "colab": {
          "base_uri": "https://localhost:8080/"
        },
        "id": "dNBEUZzQGoHE",
        "outputId": "4535a1e5-da7d-4a95-97b2-8f9989ef8e33"
      },
      "outputs": [
        {
          "name": "stdout",
          "output_type": "stream",
          "text": [
            "Brand name: LuxKicks\n",
            "\n",
            "Score: 8/10. The name is catchy and memorable, and it effectively conveys the brand's target audience and positioning. However, the success of the brand will ultimately depend on the quality and design of the sneakers themselves.\n"
          ]
        }
      ],
      "source": [
        "print(consultant_response.content)"
      ]
    },
    {
      "attachments": {},
      "cell_type": "markdown",
      "metadata": {
        "id": "1ngY595Xun3D"
      },
      "source": [
        "## Get the output as JSON"
      ]
    },
    {
      "cell_type": "code",
      "execution_count": null,
      "metadata": {
        "id": "VhkCPsSPu0m_"
      },
      "outputs": [],
      "source": [
        "template_string = \"\"\"You are a master branding consulatant who specializes in naming brands. \\\n",
        "You come up with catchy and memorable brand names.\n",
        "\n",
        "Take the brand description below delimited by triple backticks and use it to create the name for a brand.\n",
        "\n",
        "brand description: ```{brand_description}```\n",
        "\n",
        "then based on the description and you hot new brand name give the brand a score 1-10 for how likely it is to succeed.\n",
        "\n",
        "Format the output as JSON with the following keys:\n",
        "brand_name\n",
        "likelihood_of_success\n",
        "reasoning\n",
        "\"\"\""
      ]
    },
    {
      "cell_type": "code",
      "execution_count": null,
      "metadata": {
        "id": "av1MTf2ru0nK"
      },
      "outputs": [],
      "source": [
        "from langchain.prompts import ChatPromptTemplate\n",
        "\n",
        "prompt_template = ChatPromptTemplate.from_template(template_string)\n"
      ]
    },
    {
      "cell_type": "code",
      "execution_count": null,
      "metadata": {
        "colab": {
          "base_uri": "https://localhost:8080/"
        },
        "id": "JpK_te7du0nK",
        "outputId": "1004c768-a842-4dea-c111-fe18bb610852"
      },
      "outputs": [
        {
          "data": {
            "text/plain": [
              "PromptTemplate(input_variables=['brand_description'], output_parser=None, partial_variables={}, template='You are a master branding consulatant who specializes in naming brands. You come up with catchy and memorable brand names.\\n\\nTake the brand description below delimited by triple backticks and use it to create the name for a brand.\\n\\nbrand description: ```{brand_description}```\\n\\nthen based on the description and you hot new brand name give the brand a score 1-10 for how likely it is to succeed.\\n\\nFormat the output as JSON with the following keys:\\nbrand_name\\nlikelihood_of_success\\nreasoning\\n', template_format='f-string', validate_template=True)"
            ]
          },
          "execution_count": 22,
          "metadata": {},
          "output_type": "execute_result"
        }
      ],
      "source": [
        "prompt_template.messages[0].prompt"
      ]
    },
    {
      "cell_type": "code",
      "execution_count": null,
      "metadata": {
        "id": "EEshuZ87u0nK"
      },
      "outputs": [],
      "source": [
        "branding_messages = prompt_template.format_messages( brand_description=\"a cool hip new sneaker brand aimed at rich kids\")"
      ]
    },
    {
      "cell_type": "code",
      "execution_count": null,
      "metadata": {
        "colab": {
          "base_uri": "https://localhost:8080/"
        },
        "id": "Wy5WtrBRu0nK",
        "outputId": "a18e47c9-d02b-4c21-95f1-3dbe7e4a2c83"
      },
      "outputs": [
        {
          "data": {
            "text/plain": [
              "[HumanMessage(content='You are a master branding consulatant who specializes in naming brands. You come up with catchy and memorable brand names.\\n\\nTake the brand description below delimited by triple backticks and use it to create the name for a brand.\\n\\nbrand description: ```a cool hip new sneaker brand aimed at rich kids```\\n\\nthen based on the description and you hot new brand name give the brand a score 1-10 for how likely it is to succeed.\\n\\nFormat the output as JSON with the following keys:\\nbrand_name\\nlikelihood_of_success\\nreasoning\\n', additional_kwargs={}, example=False)]"
            ]
          },
          "execution_count": 24,
          "metadata": {},
          "output_type": "execute_result"
        }
      ],
      "source": [
        "branding_messages"
      ]
    },
    {
      "cell_type": "code",
      "execution_count": null,
      "metadata": {
        "id": "wuyDMenyu0nK"
      },
      "outputs": [],
      "source": [
        "consultant_response = chat_llm(branding_messages)"
      ]
    },
    {
      "cell_type": "code",
      "execution_count": null,
      "metadata": {
        "colab": {
          "base_uri": "https://localhost:8080/"
        },
        "id": "MCrN3wF5u0nK",
        "outputId": "febc399d-fac0-4d48-ccd9-7c2d1b1de3ad"
      },
      "outputs": [
        {
          "name": "stdout",
          "output_type": "stream",
          "text": [
            "{\n",
            "    \"brand_name\": \"LuxKicks\",\n",
            "    \"likelihood_of_success\": 8,\n",
            "    \"reasoning\": \"The name combines luxury and kicks, which fits the target audience of rich kids who want to show off their cool sneakers. The name is catchy and memorable, which will help with brand recognition and word-of-mouth marketing. However, the success of the brand will also depend on the quality and design of the sneakers themselves.\"\n",
            "}\n"
          ]
        }
      ],
      "source": [
        "print(consultant_response.content)"
      ]
    },
    {
      "attachments": {},
      "cell_type": "markdown",
      "metadata": {
        "id": "cL1FZe3iG1Ti"
      },
      "source": [
        "## Structured Output Parser"
      ]
    },
    {
      "cell_type": "code",
      "execution_count": null,
      "metadata": {
        "colab": {
          "base_uri": "https://localhost:8080/"
        },
        "id": "nA1CXyUTGoTE",
        "outputId": "8ece803d-8682-4b6e-d36c-533d36fd2a47"
      },
      "outputs": [
        {
          "data": {
            "text/plain": [
              "{'brand_name': 'The hot hot brand',\n",
              " 'likelihood_of_success': 5,\n",
              " 'reasoning': 'reasons go here'}"
            ]
          },
          "execution_count": 27,
          "metadata": {},
          "output_type": "execute_result"
        }
      ],
      "source": [
        "{\n",
        "  \"brand_name\": \"The hot hot brand\",\n",
        "  \"likelihood_of_success\": 5,\n",
        "  \"reasoning\": \"reasons go here\"\n",
        "}"
      ]
    },
    {
      "cell_type": "code",
      "execution_count": null,
      "metadata": {
        "id": "MpelfWvfvxdv"
      },
      "outputs": [],
      "source": [
        "from langchain.output_parsers import ResponseSchema\n",
        "from langchain.output_parsers import StructuredOutputParser\n",
        "\n",
        "brand_name_schema = ResponseSchema(name=\"brand_name\",\n",
        "                             description=\"This is the name of the brand\")\n",
        "\n",
        "likelihood_of_success_schema = ResponseSchema(name=\"likelihood_of_success\",\n",
        "                                      description=\"This is an integer score between 1-10\")\n",
        "\n",
        "reasoning_schema = ResponseSchema(name=\"reasoning\",\n",
        "                                    description=\"This is the reasons for the score\")\n",
        "\n",
        "response_schemas = [brand_name_schema,\n",
        "                    likelihood_of_success_schema,\n",
        "                    reasoning_schema]"
      ]
    },
    {
      "cell_type": "code",
      "execution_count": null,
      "metadata": {
        "id": "HLd6pkh-whKY"
      },
      "outputs": [],
      "source": [
        "output_parser = StructuredOutputParser.from_response_schemas(response_schemas)"
      ]
    },
    {
      "cell_type": "code",
      "execution_count": null,
      "metadata": {
        "id": "RzTZLFeMwlsK"
      },
      "outputs": [],
      "source": [
        "format_instructions = output_parser.get_format_instructions()"
      ]
    },
    {
      "cell_type": "code",
      "execution_count": null,
      "metadata": {
        "colab": {
          "base_uri": "https://localhost:8080/"
        },
        "id": "zOfAmQ7LwpJC",
        "outputId": "78afc273-c797-4c1c-b596-897250db847e"
      },
      "outputs": [
        {
          "name": "stdout",
          "output_type": "stream",
          "text": [
            "The output should be a markdown code snippet formatted in the following schema, including the leading and trailing \"\\`\\`\\`json\" and \"\\`\\`\\`\":\n",
            "\n",
            "```json\n",
            "{\n",
            "\t\"brand_name\": string  // This is the name of the brand\n",
            "\t\"likelihood_of_success\": string  // This is an integer score between 1-10\n",
            "\t\"reasoning\": string  // This is the reasons for the score\n",
            "}\n",
            "```\n"
          ]
        }
      ],
      "source": [
        "print(format_instructions)"
      ]
    },
    {
      "cell_type": "code",
      "execution_count": null,
      "metadata": {
        "id": "KMPo1SRAw0J2"
      },
      "outputs": [],
      "source": [
        "template_string = \"\"\"You are a master branding consulatant who specializes in naming brands. \\\n",
        "You come up with catchy and memorable brand names.\n",
        "\n",
        "Take the brand description below delimited by triple backticks and use it to create the name for a brand.\n",
        "\n",
        "brand description: ```{brand_description}```\n",
        "\n",
        "then based on the description and you hot new brand name give the brand a score 1-10 for how likely it is to succeed.\n",
        "\n",
        "{format_instructions}\n",
        "\"\"\""
      ]
    },
    {
      "cell_type": "code",
      "execution_count": null,
      "metadata": {
        "id": "pqtIktE8xHT0"
      },
      "outputs": [],
      "source": [
        "prompt = ChatPromptTemplate.from_template(template=template_string)\n",
        "\n",
        "messages = prompt.format_messages(brand_description=\"a cool hip new sneaker brand aimed at rich kids\",\n",
        "                                format_instructions=format_instructions)"
      ]
    },
    {
      "cell_type": "code",
      "execution_count": null,
      "metadata": {
        "colab": {
          "base_uri": "https://localhost:8080/"
        },
        "id": "-jQZTUEGy2Bv",
        "outputId": "0c236186-bcb4-4945-e157-aecaea6ab2a3"
      },
      "outputs": [
        {
          "data": {
            "text/plain": [
              "[HumanMessage(content='You are a master branding consulatant who specializes in naming brands. You come up with catchy and memorable brand names.\\n\\nTake the brand description below delimited by triple backticks and use it to create the name for a brand.\\n\\nbrand description: ```a cool hip new sneaker brand aimed at rich kids```\\n\\nthen based on the description and you hot new brand name give the brand a score 1-10 for how likely it is to succeed.\\n\\nThe output should be a markdown code snippet formatted in the following schema, including the leading and trailing \"\\\\`\\\\`\\\\`json\" and \"\\\\`\\\\`\\\\`\":\\n\\n```json\\n{\\n\\t\"brand_name\": string  // This is the name of the brand\\n\\t\"likelihood_of_success\": string  // This is an integer score between 1-10\\n\\t\"reasoning\": string  // This is the reasons for the score\\n}\\n```\\n', additional_kwargs={}, example=False)]"
            ]
          },
          "execution_count": 34,
          "metadata": {},
          "output_type": "execute_result"
        }
      ],
      "source": [
        "messages"
      ]
    },
    {
      "cell_type": "code",
      "execution_count": null,
      "metadata": {
        "colab": {
          "base_uri": "https://localhost:8080/"
        },
        "id": "fnPY3OSNy3c7",
        "outputId": "ae3da5b6-9b84-450f-f538-0c5e205153fb"
      },
      "outputs": [
        {
          "name": "stdout",
          "output_type": "stream",
          "text": [
            "You are a master branding consulatant who specializes in naming brands. You come up with catchy and memorable brand names.\n",
            "\n",
            "Take the brand description below delimited by triple backticks and use it to create the name for a brand.\n",
            "\n",
            "brand description: ```a cool hip new sneaker brand aimed at rich kids```\n",
            "\n",
            "then based on the description and you hot new brand name give the brand a score 1-10 for how likely it is to succeed.\n",
            "\n",
            "The output should be a markdown code snippet formatted in the following schema, including the leading and trailing \"\\`\\`\\`json\" and \"\\`\\`\\`\":\n",
            "\n",
            "```json\n",
            "{\n",
            "\t\"brand_name\": string  // This is the name of the brand\n",
            "\t\"likelihood_of_success\": string  // This is an integer score between 1-10\n",
            "\t\"reasoning\": string  // This is the reasons for the score\n",
            "}\n",
            "```\n",
            "\n"
          ]
        }
      ],
      "source": [
        "print(messages[0].content)"
      ]
    },
    {
      "cell_type": "code",
      "execution_count": null,
      "metadata": {
        "colab": {
          "base_uri": "https://localhost:8080/"
        },
        "id": "bzE6U9IRy9Ie",
        "outputId": "29eaf877-3e01-44ab-a91c-333ce21ed157"
      },
      "outputs": [
        {
          "data": {
            "text/plain": [
              "AIMessage(content='```json\\n{\\n\\t\"brand_name\": \"LuxKicks\",\\n\\t\"likelihood_of_success\": \"8\",\\n\\t\"reasoning\": \"The name is catchy and memorable, and it effectively communicates the brand\\'s target audience of rich kids. However, the success of the brand will also depend on the quality and design of the sneakers themselves.\"\\n}\\n```', additional_kwargs={}, example=False)"
            ]
          },
          "execution_count": 36,
          "metadata": {},
          "output_type": "execute_result"
        }
      ],
      "source": [
        "response = chat_llm(messages)\n",
        "response"
      ]
    },
    {
      "cell_type": "code",
      "execution_count": null,
      "metadata": {
        "id": "Ze9NjiSMzTkV"
      },
      "outputs": [],
      "source": [
        "response_as_dict = output_parser.parse(response.content)"
      ]
    },
    {
      "cell_type": "code",
      "execution_count": null,
      "metadata": {
        "colab": {
          "base_uri": "https://localhost:8080/"
        },
        "id": "o1vTnqM6zdCv",
        "outputId": "127c290b-a90c-461a-b5eb-2b97574998d4"
      },
      "outputs": [
        {
          "data": {
            "text/plain": [
              "{'brand_name': 'LuxKicks',\n",
              " 'likelihood_of_success': '8',\n",
              " 'reasoning': \"The name is catchy and memorable, and it effectively communicates the brand's target audience of rich kids. However, the success of the brand will also depend on the quality and design of the sneakers themselves.\"}"
            ]
          },
          "execution_count": 38,
          "metadata": {},
          "output_type": "execute_result"
        }
      ],
      "source": [
        "response_as_dict"
      ]
    },
    {
      "cell_type": "code",
      "execution_count": null,
      "metadata": {
        "colab": {
          "base_uri": "https://localhost:8080/"
        },
        "id": "02QEVfWBzeEr",
        "outputId": "4221580c-3d47-4622-c1ca-2e77a53462c1"
      },
      "outputs": [
        {
          "data": {
            "text/plain": [
              "dict"
            ]
          },
          "execution_count": 39,
          "metadata": {},
          "output_type": "execute_result"
        }
      ],
      "source": [
        "type(response_as_dict)"
      ]
    },
    {
      "cell_type": "code",
      "execution_count": null,
      "metadata": {
        "colab": {
          "base_uri": "https://localhost:8080/",
          "height": 35
        },
        "id": "oLr5bpHUzriC",
        "outputId": "c506a4f1-1a76-4d63-de4b-bc4c0be1defe"
      },
      "outputs": [
        {
          "data": {
            "application/vnd.google.colaboratory.intrinsic+json": {
              "type": "string"
            },
            "text/plain": [
              "'LuxKicks'"
            ]
          },
          "execution_count": 40,
          "metadata": {},
          "output_type": "execute_result"
        }
      ],
      "source": [
        "response_as_dict[\"brand_name\"]"
      ]
    },
    {
      "attachments": {},
      "cell_type": "markdown",
      "metadata": {
        "id": "zU83ILdc0kgP"
      },
      "source": [
        "### Lets put it in a Chain"
      ]
    },
    {
      "cell_type": "code",
      "execution_count": null,
      "metadata": {
        "id": "hfB2FYpgzwPJ"
      },
      "outputs": [],
      "source": [
        "from langchain.prompts import PromptTemplate, ChatPromptTemplate, HumanMessagePromptTemplate\n",
        "from langchain.chat_models import ChatOpenAI\n",
        "\n",
        "llm = ChatOpenAI(temperature=0.0)\n",
        "\n",
        "prompt = ChatPromptTemplate(\n",
        "    messages=[\n",
        "        HumanMessagePromptTemplate.from_template(template_string)\n",
        "    ],\n",
        "    input_variables=[\"brand_description\"],\n",
        "    partial_variables={\"format_instructions\": format_instructions},\n",
        "    output_parser=output_parser # here we add the output parser to the Prompt template\n",
        ")"
      ]
    },
    {
      "cell_type": "code",
      "execution_count": null,
      "metadata": {
        "colab": {
          "base_uri": "https://localhost:8080/"
        },
        "id": "4uvkZ7Qo43xT",
        "outputId": "566b67c8-689b-4e50-ecf7-cb6004c1a2f6"
      },
      "outputs": [
        {
          "data": {
            "text/plain": [
              "[HumanMessagePromptTemplate(prompt=PromptTemplate(input_variables=['brand_description', 'format_instructions'], output_parser=None, partial_variables={}, template='You are a master branding consulatant who specializes in naming brands. You come up with catchy and memorable brand names.\\n\\nTake the brand description below delimited by triple backticks and use it to create the name for a brand.\\n\\nbrand description: ```{brand_description}```\\n\\nthen based on the description and you hot new brand name give the brand a score 1-10 for how likely it is to succeed.\\n\\n{format_instructions}\\n', template_format='f-string', validate_template=True), additional_kwargs={})]"
            ]
          },
          "execution_count": 42,
          "metadata": {},
          "output_type": "execute_result"
        }
      ],
      "source": [
        "prompt.messages"
      ]
    },
    {
      "cell_type": "code",
      "execution_count": null,
      "metadata": {
        "colab": {
          "base_uri": "https://localhost:8080/"
        },
        "id": "bWySidoQ5Sht",
        "outputId": "796c90a0-2a4e-449b-e35e-b0ae24a08009"
      },
      "outputs": [
        {
          "name": "stdout",
          "output_type": "stream",
          "text": [
            "Human: You are a master branding consulatant who specializes in naming brands. You come up with catchy and memorable brand names.\n",
            "\n",
            "Take the brand description below delimited by triple backticks and use it to create the name for a brand.\n",
            "\n",
            "brand description: ```a cool hip new sneaker brand aimed at rich kids```\n",
            "\n",
            "then based on the description and you hot new brand name give the brand a score 1-10 for how likely it is to succeed.\n",
            "\n",
            "The output should be a markdown code snippet formatted in the following schema, including the leading and trailing \"\\`\\`\\`json\" and \"\\`\\`\\`\":\n",
            "\n",
            "```json\n",
            "{\n",
            "\t\"brand_name\": string  // This is the name of the brand\n",
            "\t\"likelihood_of_success\": string  // This is an integer score between 1-10\n",
            "\t\"reasoning\": string  // This is the reasons for the score\n",
            "}\n",
            "```\n",
            "\n"
          ]
        }
      ],
      "source": [
        "print(prompt.format(brand_description=\"a cool hip new sneaker brand aimed at rich kids\"))"
      ]
    },
    {
      "cell_type": "code",
      "execution_count": null,
      "metadata": {
        "id": "DlwKv0kY2Szd"
      },
      "outputs": [],
      "source": [
        "from langchain.chains import LLMChain\n",
        "\n",
        "chain = LLMChain(llm=llm,\n",
        "                 prompt=prompt)"
      ]
    },
    {
      "cell_type": "code",
      "execution_count": null,
      "metadata": {
        "id": "rZw4kDnq2iRs"
      },
      "outputs": [],
      "source": [
        "# we have to use predict_and_parse to make sure the output gets\n",
        "response = chain.predict_and_parse(brand_description=\"a cool hip new sneaker brand aimed at rich kids\")"
      ]
    },
    {
      "cell_type": "code",
      "execution_count": null,
      "metadata": {
        "colab": {
          "base_uri": "https://localhost:8080/"
        },
        "id": "uSx5z5CG27Wl",
        "outputId": "7fe6eb7c-48e9-4acd-cb94-4c19b039c5e0"
      },
      "outputs": [
        {
          "data": {
            "text/plain": [
              "dict"
            ]
          },
          "execution_count": 46,
          "metadata": {},
          "output_type": "execute_result"
        }
      ],
      "source": [
        "type(response)"
      ]
    },
    {
      "cell_type": "code",
      "execution_count": null,
      "metadata": {
        "colab": {
          "base_uri": "https://localhost:8080/"
        },
        "id": "K_4HKP3a4f_t",
        "outputId": "0890bc4a-7aea-44fd-b529-4745d6a00dd9"
      },
      "outputs": [
        {
          "data": {
            "text/plain": [
              "{'brand_name': 'LuxKicks',\n",
              " 'likelihood_of_success': '8',\n",
              " 'reasoning': \"The name is catchy and memorable, and it effectively communicates the brand's target audience of rich kids. However, the success of the brand will also depend on the quality and design of the sneakers themselves.\"}"
            ]
          },
          "execution_count": 47,
          "metadata": {},
          "output_type": "execute_result"
        }
      ],
      "source": [
        "response"
      ]
    },
    {
      "cell_type": "code",
      "execution_count": null,
      "metadata": {
        "colab": {
          "base_uri": "https://localhost:8080/",
          "height": 35
        },
        "id": "Ylicub544hsX",
        "outputId": "2c65a884-7113-42ff-ea11-7bd5120cd701"
      },
      "outputs": [
        {
          "data": {
            "application/vnd.google.colaboratory.intrinsic+json": {
              "type": "string"
            },
            "text/plain": [
              "'8'"
            ]
          },
          "execution_count": 48,
          "metadata": {},
          "output_type": "execute_result"
        }
      ],
      "source": [
        "response[\"likelihood_of_success\"] # still a string"
      ]
    },
    {
      "attachments": {},
      "cell_type": "markdown",
      "metadata": {
        "id": "CvbG-Ft2rpal"
      },
      "source": [
        "## CommaSeparatedListOutputParser"
      ]
    },
    {
      "cell_type": "code",
      "execution_count": null,
      "metadata": {
        "id": "5CO5wf4fTs1J"
      },
      "outputs": [],
      "source": [
        "from langchain.output_parsers import CommaSeparatedListOutputParser\n",
        "from langchain.prompts import PromptTemplate, ChatPromptTemplate, HumanMessagePromptTemplate\n",
        "from langchain.llms import OpenAI\n",
        "from langchain.chat_models import ChatOpenAI"
      ]
    },
    {
      "cell_type": "code",
      "execution_count": null,
      "metadata": {
        "id": "Io__7vH7Uj-7"
      },
      "outputs": [],
      "source": [
        "output_parser = CommaSeparatedListOutputParser()"
      ]
    },
    {
      "cell_type": "code",
      "execution_count": null,
      "metadata": {
        "colab": {
          "base_uri": "https://localhost:8080/",
          "height": 35
        },
        "id": "XcxbbW3jxE4C",
        "outputId": "fd3504ed-329f-44de-b79b-572988e29960"
      },
      "outputs": [
        {
          "data": {
            "application/vnd.google.colaboratory.intrinsic+json": {
              "type": "string"
            },
            "text/plain": [
              "'Your response should be a list of comma separated values, eg: `foo, bar, baz`'"
            ]
          },
          "execution_count": 51,
          "metadata": {},
          "output_type": "execute_result"
        }
      ],
      "source": [
        "format_instructions = output_parser.get_format_instructions()\n",
        "format_instructions"
      ]
    },
    {
      "cell_type": "code",
      "execution_count": null,
      "metadata": {
        "id": "-UHdGrkIUmuL"
      },
      "outputs": [],
      "source": [
        "\n",
        "new_template_string=\"give me 4 possible marketing slogans for a brand named {brand_name} :\\n\\n{format_instructions}\"\n",
        "\n",
        "prompt = ChatPromptTemplate(\n",
        "    messages=[\n",
        "        HumanMessagePromptTemplate.from_template(new_template_string)\n",
        "    ],\n",
        "    input_variables=[\"brand_name\"],\n",
        "    partial_variables={\"format_instructions\": format_instructions}\n",
        ")\n"
      ]
    },
    {
      "cell_type": "code",
      "execution_count": null,
      "metadata": {
        "id": "SmsHH8N2soZq"
      },
      "outputs": [],
      "source": [
        "brand_name = response[\"brand_name\"]"
      ]
    },
    {
      "cell_type": "code",
      "execution_count": null,
      "metadata": {
        "id": "EwRkBB1pUqYO"
      },
      "outputs": [],
      "source": [
        "llm = ChatOpenAI(temperature=0.0)"
      ]
    },
    {
      "cell_type": "code",
      "execution_count": null,
      "metadata": {
        "id": "shwDsFqNum_B"
      },
      "outputs": [],
      "source": [
        "messages_for_list_prompt = prompt.format_messages(brand_name=brand_name,\n",
        "                                format_instructions=format_instructions)"
      ]
    },
    {
      "cell_type": "code",
      "execution_count": null,
      "metadata": {
        "colab": {
          "base_uri": "https://localhost:8080/"
        },
        "id": "PO35kn-rt8Ew",
        "outputId": "8a083741-e7e6-478b-8b06-c63b1323ccd1"
      },
      "outputs": [
        {
          "data": {
            "text/plain": [
              "ChatPromptTemplate(input_variables=['brand_name'], output_parser=None, partial_variables={'format_instructions': 'Your response should be a list of comma separated values, eg: `foo, bar, baz`'}, messages=[HumanMessagePromptTemplate(prompt=PromptTemplate(input_variables=['brand_name', 'format_instructions'], output_parser=None, partial_variables={}, template='give me 4 possible marketing slogans for a brand named {brand_name} :\\n\\n{format_instructions}', template_format='f-string', validate_template=True), additional_kwargs={})])"
            ]
          },
          "execution_count": 56,
          "metadata": {},
          "output_type": "execute_result"
        }
      ],
      "source": [
        "prompt"
      ]
    },
    {
      "cell_type": "code",
      "execution_count": null,
      "metadata": {
        "colab": {
          "base_uri": "https://localhost:8080/"
        },
        "id": "j4e_bKhXwio5",
        "outputId": "a30729b6-6717-4a0e-c748-d9199d42923c"
      },
      "outputs": [
        {
          "data": {
            "text/plain": [
              "[HumanMessage(content='give me 4 possible marketing slogans for a brand named LuxKicks :\\n\\nYour response should be a list of comma separated values, eg: `foo, bar, baz`', additional_kwargs={}, example=False)]"
            ]
          },
          "execution_count": 57,
          "metadata": {},
          "output_type": "execute_result"
        }
      ],
      "source": [
        "messages_for_list_prompt"
      ]
    },
    {
      "cell_type": "code",
      "execution_count": null,
      "metadata": {
        "id": "yCmjzw2puwCD"
      },
      "outputs": [],
      "source": [
        "output = llm(messages_for_list_prompt)"
      ]
    },
    {
      "cell_type": "code",
      "execution_count": null,
      "metadata": {
        "colab": {
          "base_uri": "https://localhost:8080/",
          "height": 52
        },
        "id": "A8VGnD64Uxo2",
        "outputId": "507bb941-cb84-46e2-d9d0-c312489a8c0c"
      },
      "outputs": [
        {
          "data": {
            "application/vnd.google.colaboratory.intrinsic+json": {
              "type": "string"
            },
            "text/plain": [
              "'\"Step up your style with LuxKicks\", \"LuxKicks: Elevate your footwear game\", \"Experience luxury with every step in LuxKicks\", \"LuxKicks: Where comfort meets style\".'"
            ]
          },
          "execution_count": 60,
          "metadata": {},
          "output_type": "execute_result"
        }
      ],
      "source": [
        "output.content"
      ]
    },
    {
      "cell_type": "code",
      "execution_count": null,
      "metadata": {
        "colab": {
          "base_uri": "https://localhost:8080/"
        },
        "id": "pmYFyykcUySU",
        "outputId": "863c981f-556b-48d1-ee85-6aec68fa35f5"
      },
      "outputs": [
        {
          "data": {
            "text/plain": [
              "['\"Step up your style with LuxKicks\"',\n",
              " '\"LuxKicks: Elevate your footwear game\"',\n",
              " '\"Experience luxury with every step in LuxKicks\"',\n",
              " '\"LuxKicks: Where comfort meets style\".']"
            ]
          },
          "execution_count": 61,
          "metadata": {},
          "output_type": "execute_result"
        }
      ],
      "source": [
        "slogans = output_parser.parse(output.content)\n",
        "slogans"
      ]
    },
    {
      "cell_type": "code",
      "execution_count": null,
      "metadata": {
        "colab": {
          "base_uri": "https://localhost:8080/"
        },
        "id": "N6WKlEJLvSlQ",
        "outputId": "47f47677-b08f-4849-b442-203663b6d819"
      },
      "outputs": [
        {
          "data": {
            "text/plain": [
              "list"
            ]
          },
          "execution_count": 62,
          "metadata": {},
          "output_type": "execute_result"
        }
      ],
      "source": [
        "type(slogans)"
      ]
    },
    {
      "attachments": {},
      "cell_type": "markdown",
      "metadata": {
        "id": "RqoD9ZcQyLhu"
      },
      "source": [
        "## Pydantic OutputParser"
      ]
    },
    {
      "cell_type": "code",
      "execution_count": null,
      "metadata": {
        "id": "40w93N1UXNqN"
      },
      "outputs": [],
      "source": [
        "from langchain.output_parsers import PydanticOutputParser\n",
        "from pydantic import BaseModel, Field, validator\n",
        "from typing import List"
      ]
    },
    {
      "cell_type": "code",
      "execution_count": null,
      "metadata": {
        "id": "zEIrz8kvy9MV"
      },
      "outputs": [],
      "source": [
        "llm = ChatOpenAI(temperature=0.0)"
      ]
    },
    {
      "cell_type": "code",
      "execution_count": null,
      "metadata": {
        "id": "1iTCmkSFzOwa"
      },
      "outputs": [],
      "source": [
        "# Define your desired data structure.\n",
        "class BrandInfo(BaseModel):\n",
        "    brand_name: str = Field(description=\"This is the name of the brand\")\n",
        "    reasoning: str = Field(description=\"This is the reasons for the score\")\n",
        "    likelihood_of_success: int = Field(description=\"This is an integer score between 1-10\")\n",
        "\n",
        "    # You can add custom validation logic easily with Pydantic.\n",
        "    @validator('likelihood_of_success')\n",
        "    def check_score(cls, field):\n",
        "        if field >10:\n",
        "            raise ValueError(\"Badly formed Score\")\n",
        "        return field"
      ]
    },
    {
      "cell_type": "code",
      "execution_count": null,
      "metadata": {
        "id": "oHlyhjCM0_U7"
      },
      "outputs": [],
      "source": [
        "# Set up a parser + inject instructions into the prompt template.\n",
        "pydantic_parser = PydanticOutputParser(pydantic_object=BrandInfo)\n",
        "\n",
        "format_instructions = pydantic_parser.get_format_instructions()\n"
      ]
    },
    {
      "cell_type": "code",
      "execution_count": null,
      "metadata": {
        "id": "W768gTjwzevR"
      },
      "outputs": [],
      "source": [
        "template_string = \"\"\"You are a master branding consulatant who specializes in naming brands. \\\n",
        "You come up with catchy and memorable brand names.\n",
        "\n",
        "Take the brand description below delimited by triple backticks and use it to create the name for a brand.\n",
        "\n",
        "brand description: ```{brand_description}```\n",
        "\n",
        "then based on the description and you hot new brand name give the brand a score 1-10 for how likely it is to succeed.\n",
        "\n",
        "{format_instructions}\n",
        "\"\"\""
      ]
    },
    {
      "cell_type": "code",
      "execution_count": null,
      "metadata": {
        "id": "rVexdaECzevS"
      },
      "outputs": [],
      "source": [
        "prompt = ChatPromptTemplate.from_template(template=template_string)\n",
        "\n",
        "messages = prompt.format_messages(brand_description=\"a cool hip new sneaker brand aimed at rich kids\",\n",
        "                                format_instructions=format_instructions)"
      ]
    },
    {
      "cell_type": "code",
      "execution_count": null,
      "metadata": {
        "colab": {
          "base_uri": "https://localhost:8080/"
        },
        "id": "pkNZrbtjzevS",
        "outputId": "61e1737d-b1e0-4c62-ec60-5d31ec92a859"
      },
      "outputs": [
        {
          "data": {
            "text/plain": [
              "[HumanMessage(content='You are a master branding consulatant who specializes in naming brands. You come up with catchy and memorable brand names.\\n\\nTake the brand description below delimited by triple backticks and use it to create the name for a brand.\\n\\nbrand description: ```a cool hip new sneaker brand aimed at rich kids```\\n\\nthen based on the description and you hot new brand name give the brand a score 1-10 for how likely it is to succeed.\\n\\nThe output should be formatted as a JSON instance that conforms to the JSON schema below.\\n\\nAs an example, for the schema {\"properties\": {\"foo\": {\"title\": \"Foo\", \"description\": \"a list of strings\", \"type\": \"array\", \"items\": {\"type\": \"string\"}}}, \"required\": [\"foo\"]}}\\nthe object {\"foo\": [\"bar\", \"baz\"]} is a well-formatted instance of the schema. The object {\"properties\": {\"foo\": [\"bar\", \"baz\"]}} is not well-formatted.\\n\\nHere is the output schema:\\n```\\n{\"properties\": {\"brand_name\": {\"title\": \"Brand Name\", \"description\": \"This is the name of the brand\", \"type\": \"string\"}, \"reasoning\": {\"title\": \"Reasoning\", \"description\": \"This is the reasons for the score\", \"type\": \"string\"}, \"likelihood_of_success\": {\"title\": \"Likelihood Of Success\", \"description\": \"This is an integer score between 1-10\", \"type\": \"integer\"}}, \"required\": [\"brand_name\", \"reasoning\", \"likelihood_of_success\"]}\\n```\\n', additional_kwargs={}, example=False)]"
            ]
          },
          "execution_count": 69,
          "metadata": {},
          "output_type": "execute_result"
        }
      ],
      "source": [
        "messages"
      ]
    },
    {
      "cell_type": "code",
      "execution_count": null,
      "metadata": {
        "id": "XHHonjAl1t1g"
      },
      "outputs": [],
      "source": [
        "output = llm(messages)"
      ]
    },
    {
      "cell_type": "code",
      "execution_count": null,
      "metadata": {
        "colab": {
          "base_uri": "https://localhost:8080/",
          "height": 52
        },
        "id": "dNDXx49l1t1h",
        "outputId": "edc00763-837c-4874-b204-1b83b070d799"
      },
      "outputs": [
        {
          "data": {
            "application/vnd.google.colaboratory.intrinsic+json": {
              "type": "string"
            },
            "text/plain": [
              "'{\"brand_name\": \"Rich Kicks\", \"reasoning\": \"The name combines the target audience (rich kids) with the product (sneakers) in a catchy and memorable way.\", \"likelihood_of_success\": 8}'"
            ]
          },
          "execution_count": 71,
          "metadata": {},
          "output_type": "execute_result"
        }
      ],
      "source": [
        "output.content"
      ]
    },
    {
      "cell_type": "code",
      "execution_count": null,
      "metadata": {
        "colab": {
          "base_uri": "https://localhost:8080/"
        },
        "id": "FcUnXa5M12b_",
        "outputId": "2873347a-56c8-4c2b-e441-5381a2d81273"
      },
      "outputs": [
        {
          "data": {
            "text/plain": [
              "BrandInfo(brand_name='Rich Kicks', reasoning='The name combines the target audience (rich kids) with the product (sneakers) in a catchy and memorable way.', likelihood_of_success=8)"
            ]
          },
          "execution_count": 72,
          "metadata": {},
          "output_type": "execute_result"
        }
      ],
      "source": [
        "the_brand = pydantic_parser.parse(output.content)\n",
        "\n",
        "the_brand"
      ]
    },
    {
      "cell_type": "code",
      "execution_count": null,
      "metadata": {
        "colab": {
          "base_uri": "https://localhost:8080/"
        },
        "id": "SREazOfl2MyT",
        "outputId": "9dcaba12-02ee-481d-9bb1-339d66fa39c5"
      },
      "outputs": [
        {
          "data": {
            "text/plain": [
              "__main__.BrandInfo"
            ]
          },
          "execution_count": 73,
          "metadata": {},
          "output_type": "execute_result"
        }
      ],
      "source": [
        "type(the_brand)"
      ]
    },
    {
      "cell_type": "code",
      "execution_count": null,
      "metadata": {
        "colab": {
          "base_uri": "https://localhost:8080/",
          "height": 35
        },
        "id": "Oeeo3SDO2QAK",
        "outputId": "5d0b3b36-faf9-4bec-8bd2-1c08e3e42ad8"
      },
      "outputs": [
        {
          "data": {
            "application/vnd.google.colaboratory.intrinsic+json": {
              "type": "string"
            },
            "text/plain": [
              "'Rich Kicks'"
            ]
          },
          "execution_count": 74,
          "metadata": {},
          "output_type": "execute_result"
        }
      ],
      "source": [
        "the_brand.brand_name"
      ]
    },
    {
      "cell_type": "code",
      "execution_count": null,
      "metadata": {
        "colab": {
          "base_uri": "https://localhost:8080/"
        },
        "id": "TTzTsiQc2WaH",
        "outputId": "939524e5-64c2-4157-9b80-8356879fe1c8"
      },
      "outputs": [
        {
          "data": {
            "text/plain": [
              "8"
            ]
          },
          "execution_count": 77,
          "metadata": {},
          "output_type": "execute_result"
        }
      ],
      "source": [
        "the_brand.likelihood_of_success"
      ]
    },
    {
      "cell_type": "code",
      "execution_count": null,
      "metadata": {
        "colab": {
          "base_uri": "https://localhost:8080/"
        },
        "id": "xvSy1Hut2SsY",
        "outputId": "37c52a9a-9a5b-4a95-bd7d-e08c927df92a"
      },
      "outputs": [
        {
          "data": {
            "text/plain": [
              "int"
            ]
          },
          "execution_count": 78,
          "metadata": {},
          "output_type": "execute_result"
        }
      ],
      "source": [
        "type(the_brand.likelihood_of_success)"
      ]
    },
    {
      "attachments": {},
      "cell_type": "markdown",
      "metadata": {
        "id": "LTyM9_O134gB"
      },
      "source": [
        "## Output FixingParser"
      ]
    },
    {
      "cell_type": "code",
      "execution_count": null,
      "metadata": {
        "id": "LBY71o582cvc"
      },
      "outputs": [],
      "source": [
        "class Actor(BaseModel):\n",
        "    name: str = Field(description=\"name of an actor\")\n",
        "    film_names: List[str] = Field(description=\"list of names of films they starred in\")\n",
        "\n",
        "actor_query = \"Generate the filmography for a random actor.\"\n",
        "\n",
        "parser = PydanticOutputParser(pydantic_object=Actor)"
      ]
    },
    {
      "cell_type": "code",
      "execution_count": null,
      "metadata": {
        "id": "Pk0_-CEX4bKU"
      },
      "outputs": [],
      "source": [
        "misformatted = \"{'name': 'Tom Hanks', 'film_names': ['Forrest Gump']}\""
      ]
    },
    {
      "cell_type": "code",
      "execution_count": null,
      "metadata": {
        "colab": {
          "base_uri": "https://localhost:8080/",
          "height": 451
        },
        "id": "TZuHYDzg4esa",
        "outputId": "badd1531-74a0-466e-c729-0057d809f77d"
      },
      "outputs": [
        {
          "ename": "OutputParserException",
          "evalue": "ignored",
          "output_type": "error",
          "traceback": [
            "\u001b[0;31m---------------------------------------------------------------------------\u001b[0m",
            "\u001b[0;31mJSONDecodeError\u001b[0m                           Traceback (most recent call last)",
            "\u001b[0;32m/usr/local/lib/python3.10/dist-packages/langchain/output_parsers/pydantic.py\u001b[0m in \u001b[0;36mparse\u001b[0;34m(self, text)\u001b[0m\n\u001b[1;32m     24\u001b[0m                 \u001b[0mjson_str\u001b[0m \u001b[0;34m=\u001b[0m \u001b[0mmatch\u001b[0m\u001b[0;34m.\u001b[0m\u001b[0mgroup\u001b[0m\u001b[0;34m(\u001b[0m\u001b[0;34m)\u001b[0m\u001b[0;34m\u001b[0m\u001b[0;34m\u001b[0m\u001b[0m\n\u001b[0;32m---> 25\u001b[0;31m             \u001b[0mjson_object\u001b[0m \u001b[0;34m=\u001b[0m \u001b[0mjson\u001b[0m\u001b[0;34m.\u001b[0m\u001b[0mloads\u001b[0m\u001b[0;34m(\u001b[0m\u001b[0mjson_str\u001b[0m\u001b[0;34m,\u001b[0m \u001b[0mstrict\u001b[0m\u001b[0;34m=\u001b[0m\u001b[0;32mFalse\u001b[0m\u001b[0;34m)\u001b[0m\u001b[0;34m\u001b[0m\u001b[0;34m\u001b[0m\u001b[0m\n\u001b[0m\u001b[1;32m     26\u001b[0m             \u001b[0;32mreturn\u001b[0m \u001b[0mself\u001b[0m\u001b[0;34m.\u001b[0m\u001b[0mpydantic_object\u001b[0m\u001b[0;34m.\u001b[0m\u001b[0mparse_obj\u001b[0m\u001b[0;34m(\u001b[0m\u001b[0mjson_object\u001b[0m\u001b[0;34m)\u001b[0m\u001b[0;34m\u001b[0m\u001b[0;34m\u001b[0m\u001b[0m\n",
            "\u001b[0;32m/usr/lib/python3.10/json/__init__.py\u001b[0m in \u001b[0;36mloads\u001b[0;34m(s, cls, object_hook, parse_float, parse_int, parse_constant, object_pairs_hook, **kw)\u001b[0m\n\u001b[1;32m    358\u001b[0m         \u001b[0mkw\u001b[0m\u001b[0;34m[\u001b[0m\u001b[0;34m'parse_constant'\u001b[0m\u001b[0;34m]\u001b[0m \u001b[0;34m=\u001b[0m \u001b[0mparse_constant\u001b[0m\u001b[0;34m\u001b[0m\u001b[0;34m\u001b[0m\u001b[0m\n\u001b[0;32m--> 359\u001b[0;31m     \u001b[0;32mreturn\u001b[0m \u001b[0mcls\u001b[0m\u001b[0;34m(\u001b[0m\u001b[0;34m**\u001b[0m\u001b[0mkw\u001b[0m\u001b[0;34m)\u001b[0m\u001b[0;34m.\u001b[0m\u001b[0mdecode\u001b[0m\u001b[0;34m(\u001b[0m\u001b[0ms\u001b[0m\u001b[0;34m)\u001b[0m\u001b[0;34m\u001b[0m\u001b[0;34m\u001b[0m\u001b[0m\n\u001b[0m",
            "\u001b[0;32m/usr/lib/python3.10/json/decoder.py\u001b[0m in \u001b[0;36mdecode\u001b[0;34m(self, s, _w)\u001b[0m\n\u001b[1;32m    336\u001b[0m         \"\"\"\n\u001b[0;32m--> 337\u001b[0;31m         \u001b[0mobj\u001b[0m\u001b[0;34m,\u001b[0m \u001b[0mend\u001b[0m \u001b[0;34m=\u001b[0m \u001b[0mself\u001b[0m\u001b[0;34m.\u001b[0m\u001b[0mraw_decode\u001b[0m\u001b[0;34m(\u001b[0m\u001b[0ms\u001b[0m\u001b[0;34m,\u001b[0m \u001b[0midx\u001b[0m\u001b[0;34m=\u001b[0m\u001b[0m_w\u001b[0m\u001b[0;34m(\u001b[0m\u001b[0ms\u001b[0m\u001b[0;34m,\u001b[0m \u001b[0;36m0\u001b[0m\u001b[0;34m)\u001b[0m\u001b[0;34m.\u001b[0m\u001b[0mend\u001b[0m\u001b[0;34m(\u001b[0m\u001b[0;34m)\u001b[0m\u001b[0;34m)\u001b[0m\u001b[0;34m\u001b[0m\u001b[0;34m\u001b[0m\u001b[0m\n\u001b[0m\u001b[1;32m    338\u001b[0m         \u001b[0mend\u001b[0m \u001b[0;34m=\u001b[0m \u001b[0m_w\u001b[0m\u001b[0;34m(\u001b[0m\u001b[0ms\u001b[0m\u001b[0;34m,\u001b[0m \u001b[0mend\u001b[0m\u001b[0;34m)\u001b[0m\u001b[0;34m.\u001b[0m\u001b[0mend\u001b[0m\u001b[0;34m(\u001b[0m\u001b[0;34m)\u001b[0m\u001b[0;34m\u001b[0m\u001b[0;34m\u001b[0m\u001b[0m\n",
            "\u001b[0;32m/usr/lib/python3.10/json/decoder.py\u001b[0m in \u001b[0;36mraw_decode\u001b[0;34m(self, s, idx)\u001b[0m\n\u001b[1;32m    352\u001b[0m         \u001b[0;32mtry\u001b[0m\u001b[0;34m:\u001b[0m\u001b[0;34m\u001b[0m\u001b[0;34m\u001b[0m\u001b[0m\n\u001b[0;32m--> 353\u001b[0;31m             \u001b[0mobj\u001b[0m\u001b[0;34m,\u001b[0m \u001b[0mend\u001b[0m \u001b[0;34m=\u001b[0m \u001b[0mself\u001b[0m\u001b[0;34m.\u001b[0m\u001b[0mscan_once\u001b[0m\u001b[0;34m(\u001b[0m\u001b[0ms\u001b[0m\u001b[0;34m,\u001b[0m \u001b[0midx\u001b[0m\u001b[0;34m)\u001b[0m\u001b[0;34m\u001b[0m\u001b[0;34m\u001b[0m\u001b[0m\n\u001b[0m\u001b[1;32m    354\u001b[0m         \u001b[0;32mexcept\u001b[0m \u001b[0mStopIteration\u001b[0m \u001b[0;32mas\u001b[0m \u001b[0merr\u001b[0m\u001b[0;34m:\u001b[0m\u001b[0;34m\u001b[0m\u001b[0;34m\u001b[0m\u001b[0m\n",
            "\u001b[0;31mJSONDecodeError\u001b[0m: Expecting property name enclosed in double quotes: line 1 column 2 (char 1)",
            "\nDuring handling of the above exception, another exception occurred:\n",
            "\u001b[0;31mOutputParserException\u001b[0m                     Traceback (most recent call last)",
            "\u001b[0;32m<ipython-input-81-92abc77851ee>\u001b[0m in \u001b[0;36m<cell line: 1>\u001b[0;34m()\u001b[0m\n\u001b[0;32m----> 1\u001b[0;31m \u001b[0mparser\u001b[0m\u001b[0;34m.\u001b[0m\u001b[0mparse\u001b[0m\u001b[0;34m(\u001b[0m\u001b[0mmisformatted\u001b[0m\u001b[0;34m)\u001b[0m\u001b[0;34m\u001b[0m\u001b[0;34m\u001b[0m\u001b[0m\n\u001b[0m",
            "\u001b[0;32m/usr/local/lib/python3.10/dist-packages/langchain/output_parsers/pydantic.py\u001b[0m in \u001b[0;36mparse\u001b[0;34m(self, text)\u001b[0m\n\u001b[1;32m     29\u001b[0m             \u001b[0mname\u001b[0m \u001b[0;34m=\u001b[0m \u001b[0mself\u001b[0m\u001b[0;34m.\u001b[0m\u001b[0mpydantic_object\u001b[0m\u001b[0;34m.\u001b[0m\u001b[0m__name__\u001b[0m\u001b[0;34m\u001b[0m\u001b[0;34m\u001b[0m\u001b[0m\n\u001b[1;32m     30\u001b[0m             \u001b[0mmsg\u001b[0m \u001b[0;34m=\u001b[0m \u001b[0;34mf\"Failed to parse {name} from completion {text}. Got: {e}\"\u001b[0m\u001b[0;34m\u001b[0m\u001b[0;34m\u001b[0m\u001b[0m\n\u001b[0;32m---> 31\u001b[0;31m             \u001b[0;32mraise\u001b[0m \u001b[0mOutputParserException\u001b[0m\u001b[0;34m(\u001b[0m\u001b[0mmsg\u001b[0m\u001b[0;34m)\u001b[0m\u001b[0;34m\u001b[0m\u001b[0;34m\u001b[0m\u001b[0m\n\u001b[0m\u001b[1;32m     32\u001b[0m \u001b[0;34m\u001b[0m\u001b[0m\n\u001b[1;32m     33\u001b[0m     \u001b[0;32mdef\u001b[0m \u001b[0mget_format_instructions\u001b[0m\u001b[0;34m(\u001b[0m\u001b[0mself\u001b[0m\u001b[0;34m)\u001b[0m \u001b[0;34m->\u001b[0m \u001b[0mstr\u001b[0m\u001b[0;34m:\u001b[0m\u001b[0;34m\u001b[0m\u001b[0;34m\u001b[0m\u001b[0m\n",
            "\u001b[0;31mOutputParserException\u001b[0m: Failed to parse Actor from completion {'name': 'Tom Hanks', 'film_names': ['Forrest Gump']}. Got: Expecting property name enclosed in double quotes: line 1 column 2 (char 1)"
          ]
        }
      ],
      "source": [
        "parser.parse(misformatted)"
      ]
    },
    {
      "cell_type": "code",
      "execution_count": null,
      "metadata": {
        "id": "SQb4uW8N4kbz"
      },
      "outputs": [],
      "source": [
        "from langchain.output_parsers import OutputFixingParser\n",
        "\n",
        "new_parser = OutputFixingParser.from_llm(parser=parser,\n",
        "                                         llm=ChatOpenAI())"
      ]
    },
    {
      "cell_type": "code",
      "execution_count": null,
      "metadata": {
        "colab": {
          "base_uri": "https://localhost:8080/"
        },
        "id": "47R0-wDr4yJw",
        "outputId": "550bb143-4248-4521-abc9-3e4a2ba3a019"
      },
      "outputs": [
        {
          "data": {
            "text/plain": [
              "Actor(name='Tom Hanks', film_names=['Forrest Gump'])"
            ]
          },
          "execution_count": 83,
          "metadata": {},
          "output_type": "execute_result"
        }
      ],
      "source": [
        "new_parser.parse(misformatted)"
      ]
    },
    {
      "cell_type": "code",
      "execution_count": null,
      "metadata": {
        "colab": {
          "base_uri": "https://localhost:8080/"
        },
        "id": "dodRU-ExBrCu",
        "outputId": "10ba9085-caaa-47b9-ebb2-4f66042a1393"
      },
      "outputs": [
        {
          "name": "stdout",
          "output_type": "stream",
          "text": [
            "Instructions:\n",
            "--------------\n",
            "{instructions}\n",
            "--------------\n",
            "Completion:\n",
            "--------------\n",
            "{completion}\n",
            "--------------\n",
            "\n",
            "Above, the Completion did not satisfy the constraints given in the Instructions.\n",
            "Error:\n",
            "--------------\n",
            "{error}\n",
            "--------------\n",
            "\n",
            "Please try again. Please only respond with an answer that satisfies the constraints laid out in the Instructions:\n"
          ]
        }
      ],
      "source": [
        "#lets look at the prompt\n",
        "print(new_parser.retry_chain.prompt.template)"
      ]
    },
    {
      "attachments": {},
      "cell_type": "markdown",
      "metadata": {
        "id": "2ZpvfV8U5RE8"
      },
      "source": [
        "## RetryOutputParser\n",
        "\n",
        "If you can't fix the output then you need to retry from the llm"
      ]
    },
    {
      "cell_type": "code",
      "execution_count": null,
      "metadata": {
        "id": "dnCQ7sZE4696"
      },
      "outputs": [],
      "source": [
        "from langchain.output_parsers import PydanticOutputParser, OutputFixingParser, RetryOutputParser"
      ]
    },
    {
      "cell_type": "code",
      "execution_count": null,
      "metadata": {
        "id": "3KZLl1aqZWN1"
      },
      "outputs": [],
      "source": [
        "template = \"\"\"Based on the user question, provide an Action and Action Input for what step should be taken.\n",
        "{format_instructions}\n",
        "Question: {query}\n",
        "Response:\"\"\"\n",
        "class Action(BaseModel):\n",
        "    action: str = Field(description=\"action to take\")\n",
        "    action_input: str = Field(description=\"input to the action\")\n",
        "\n",
        "parser = PydanticOutputParser(pydantic_object=Action)"
      ]
    },
    {
      "cell_type": "code",
      "execution_count": null,
      "metadata": {
        "id": "ce4rM0-7ZYRO"
      },
      "outputs": [],
      "source": [
        "prompt = PromptTemplate(\n",
        "    template=\"Answer the user query.\\n{format_instructions}\\n{query}\\n\",\n",
        "    input_variables=[\"query\"],\n",
        "    partial_variables={\"format_instructions\": parser.get_format_instructions()}\n",
        ")"
      ]
    },
    {
      "cell_type": "code",
      "execution_count": null,
      "metadata": {
        "id": "0NVEP69HZble"
      },
      "outputs": [],
      "source": [
        "prompt_value = prompt.format_prompt(query=\"who is leo di caprios gf?\")"
      ]
    },
    {
      "cell_type": "code",
      "execution_count": null,
      "metadata": {
        "colab": {
          "base_uri": "https://localhost:8080/"
        },
        "id": "qxUDVZrqZi4b",
        "outputId": "1dd5ef26-dbda-4b17-c004-f0ce8a26363d"
      },
      "outputs": [
        {
          "data": {
            "text/plain": [
              "StringPromptValue(text='Answer the user query.\\nThe output should be formatted as a JSON instance that conforms to the JSON schema below.\\n\\nAs an example, for the schema {\"properties\": {\"foo\": {\"title\": \"Foo\", \"description\": \"a list of strings\", \"type\": \"array\", \"items\": {\"type\": \"string\"}}}, \"required\": [\"foo\"]}}\\nthe object {\"foo\": [\"bar\", \"baz\"]} is a well-formatted instance of the schema. The object {\"properties\": {\"foo\": [\"bar\", \"baz\"]}} is not well-formatted.\\n\\nHere is the output schema:\\n```\\n{\"properties\": {\"action\": {\"title\": \"Action\", \"description\": \"action to take\", \"type\": \"string\"}, \"action_input\": {\"title\": \"Action Input\", \"description\": \"input to the action\", \"type\": \"string\"}}, \"required\": [\"action\", \"action_input\"]}\\n```\\nwho is leo di caprios gf?\\n')"
            ]
          },
          "execution_count": 92,
          "metadata": {},
          "output_type": "execute_result"
        }
      ],
      "source": [
        "prompt_value"
      ]
    },
    {
      "cell_type": "code",
      "execution_count": null,
      "metadata": {
        "id": "ZFyZVPDRZkaH"
      },
      "outputs": [],
      "source": [
        "bad_response = '{\"action\": \"search\"}'"
      ]
    },
    {
      "cell_type": "code",
      "execution_count": null,
      "metadata": {
        "colab": {
          "base_uri": "https://localhost:8080/",
          "height": 503
        },
        "id": "7dc6OlpwZpbJ",
        "outputId": "3e9b9906-aba9-45ff-cff5-2af43b2c0662"
      },
      "outputs": [
        {
          "ename": "OutputParserException",
          "evalue": "ignored",
          "output_type": "error",
          "traceback": [
            "\u001b[0;31m---------------------------------------------------------------------------\u001b[0m",
            "\u001b[0;31mValidationError\u001b[0m                           Traceback (most recent call last)",
            "\u001b[0;32m/usr/local/lib/python3.10/dist-packages/langchain/output_parsers/pydantic.py\u001b[0m in \u001b[0;36mparse\u001b[0;34m(self, text)\u001b[0m\n\u001b[1;32m     25\u001b[0m             \u001b[0mjson_object\u001b[0m \u001b[0;34m=\u001b[0m \u001b[0mjson\u001b[0m\u001b[0;34m.\u001b[0m\u001b[0mloads\u001b[0m\u001b[0;34m(\u001b[0m\u001b[0mjson_str\u001b[0m\u001b[0;34m,\u001b[0m \u001b[0mstrict\u001b[0m\u001b[0;34m=\u001b[0m\u001b[0;32mFalse\u001b[0m\u001b[0;34m)\u001b[0m\u001b[0;34m\u001b[0m\u001b[0;34m\u001b[0m\u001b[0m\n\u001b[0;32m---> 26\u001b[0;31m             \u001b[0;32mreturn\u001b[0m \u001b[0mself\u001b[0m\u001b[0;34m.\u001b[0m\u001b[0mpydantic_object\u001b[0m\u001b[0;34m.\u001b[0m\u001b[0mparse_obj\u001b[0m\u001b[0;34m(\u001b[0m\u001b[0mjson_object\u001b[0m\u001b[0;34m)\u001b[0m\u001b[0;34m\u001b[0m\u001b[0;34m\u001b[0m\u001b[0m\n\u001b[0m\u001b[1;32m     27\u001b[0m \u001b[0;34m\u001b[0m\u001b[0m\n",
            "\u001b[0;32m/usr/local/lib/python3.10/dist-packages/pydantic/main.cpython-310-x86_64-linux-gnu.so\u001b[0m in \u001b[0;36mpydantic.main.BaseModel.parse_obj\u001b[0;34m()\u001b[0m\n",
            "\u001b[0;32m/usr/local/lib/python3.10/dist-packages/pydantic/main.cpython-310-x86_64-linux-gnu.so\u001b[0m in \u001b[0;36mpydantic.main.BaseModel.__init__\u001b[0;34m()\u001b[0m\n",
            "\u001b[0;31mValidationError\u001b[0m: 1 validation error for Action\naction_input\n  field required (type=value_error.missing)",
            "\nDuring handling of the above exception, another exception occurred:\n",
            "\u001b[0;31mOutputParserException\u001b[0m                     Traceback (most recent call last)",
            "\u001b[0;32m<ipython-input-94-e4637f3c75c6>\u001b[0m in \u001b[0;36m<cell line: 1>\u001b[0;34m()\u001b[0m\n\u001b[0;32m----> 1\u001b[0;31m \u001b[0mparser\u001b[0m\u001b[0;34m.\u001b[0m\u001b[0mparse\u001b[0m\u001b[0;34m(\u001b[0m\u001b[0mbad_response\u001b[0m\u001b[0;34m)\u001b[0m\u001b[0;34m\u001b[0m\u001b[0;34m\u001b[0m\u001b[0m\n\u001b[0m",
            "\u001b[0;32m/usr/local/lib/python3.10/dist-packages/langchain/output_parsers/pydantic.py\u001b[0m in \u001b[0;36mparse\u001b[0;34m(self, text)\u001b[0m\n\u001b[1;32m     29\u001b[0m             \u001b[0mname\u001b[0m \u001b[0;34m=\u001b[0m \u001b[0mself\u001b[0m\u001b[0;34m.\u001b[0m\u001b[0mpydantic_object\u001b[0m\u001b[0;34m.\u001b[0m\u001b[0m__name__\u001b[0m\u001b[0;34m\u001b[0m\u001b[0;34m\u001b[0m\u001b[0m\n\u001b[1;32m     30\u001b[0m             \u001b[0mmsg\u001b[0m \u001b[0;34m=\u001b[0m \u001b[0;34mf\"Failed to parse {name} from completion {text}. Got: {e}\"\u001b[0m\u001b[0;34m\u001b[0m\u001b[0;34m\u001b[0m\u001b[0m\n\u001b[0;32m---> 31\u001b[0;31m             \u001b[0;32mraise\u001b[0m \u001b[0mOutputParserException\u001b[0m\u001b[0;34m(\u001b[0m\u001b[0mmsg\u001b[0m\u001b[0;34m)\u001b[0m\u001b[0;34m\u001b[0m\u001b[0;34m\u001b[0m\u001b[0m\n\u001b[0m\u001b[1;32m     32\u001b[0m \u001b[0;34m\u001b[0m\u001b[0m\n\u001b[1;32m     33\u001b[0m     \u001b[0;32mdef\u001b[0m \u001b[0mget_format_instructions\u001b[0m\u001b[0;34m(\u001b[0m\u001b[0mself\u001b[0m\u001b[0;34m)\u001b[0m \u001b[0;34m->\u001b[0m \u001b[0mstr\u001b[0m\u001b[0;34m:\u001b[0m\u001b[0;34m\u001b[0m\u001b[0;34m\u001b[0m\u001b[0m\n",
            "\u001b[0;31mOutputParserException\u001b[0m: Failed to parse Action from completion {\"action\": \"search\"}. Got: 1 validation error for Action\naction_input\n  field required (type=value_error.missing)"
          ]
        }
      ],
      "source": [
        "parser.parse(bad_response)"
      ]
    },
    {
      "cell_type": "code",
      "execution_count": null,
      "metadata": {
        "id": "UCzgsfliZsLw"
      },
      "outputs": [],
      "source": [
        "fix_parser = OutputFixingParser.from_llm(parser=parser, llm=ChatOpenAI())"
      ]
    },
    {
      "cell_type": "code",
      "execution_count": null,
      "metadata": {
        "colab": {
          "base_uri": "https://localhost:8080/"
        },
        "id": "eHmjqjbgZvr9",
        "outputId": "b69f47eb-1893-4a99-a388-5b804da0a89d"
      },
      "outputs": [
        {
          "data": {
            "text/plain": [
              "Action(action='search', action_input='')"
            ]
          },
          "execution_count": 96,
          "metadata": {},
          "output_type": "execute_result"
        }
      ],
      "source": [
        "fix_parser.parse(bad_response)"
      ]
    },
    {
      "cell_type": "code",
      "execution_count": null,
      "metadata": {
        "id": "sZOJhHrCZ02W"
      },
      "outputs": [],
      "source": [
        "from langchain.output_parsers import RetryWithErrorOutputParser"
      ]
    },
    {
      "cell_type": "code",
      "execution_count": null,
      "metadata": {
        "id": "Hh-JlfVOZ-2R"
      },
      "outputs": [],
      "source": [
        "retry_parser = RetryWithErrorOutputParser.from_llm(parser=parser, llm=OpenAI(temperature=0))"
      ]
    },
    {
      "cell_type": "code",
      "execution_count": null,
      "metadata": {
        "colab": {
          "base_uri": "https://localhost:8080/"
        },
        "id": "ndpaDX2-aBtB",
        "outputId": "441fc539-93a7-49b0-bcc3-fd5fbf4f19cb"
      },
      "outputs": [
        {
          "data": {
            "text/plain": [
              "Action(action='search', action_input='who is leo di caprios gf?')"
            ]
          },
          "execution_count": 99,
          "metadata": {},
          "output_type": "execute_result"
        }
      ],
      "source": [
        "retry_parser.parse_with_prompt(bad_response, prompt_value)"
      ]
    },
    {
      "cell_type": "code",
      "execution_count": null,
      "metadata": {
        "id": "W2hBNQ9O9_rO"
      },
      "outputs": [],
      "source": []
    }
  ],
  "metadata": {
    "colab": {
      "provenance": []
    },
    "kernelspec": {
      "display_name": "Python 3",
      "name": "python3"
    },
    "language_info": {
      "name": "python"
    }
  },
  "nbformat": 4,
  "nbformat_minor": 0
}
